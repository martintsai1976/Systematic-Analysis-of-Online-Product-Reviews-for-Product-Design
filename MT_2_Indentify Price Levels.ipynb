{
 "cells": [
  {
   "cell_type": "code",
   "execution_count": 1,
   "metadata": {},
   "outputs": [],
   "source": [
    "from sklearn.cluster import KMeans\n",
    "from sklearn.preprocessing import MinMaxScaler\n",
    "import pandas as pd\n",
    "import numpy as np\n",
    "from matplotlib import pyplot as plt\n",
    "%matplotlib inline\n",
    "import warnings\n",
    "warnings.filterwarnings('ignore')"
   ]
  },
  {
   "cell_type": "code",
   "execution_count": 2,
   "metadata": {},
   "outputs": [
    {
     "data": {
      "text/html": [
       "<div>\n",
       "<style scoped>\n",
       "    .dataframe tbody tr th:only-of-type {\n",
       "        vertical-align: middle;\n",
       "    }\n",
       "\n",
       "    .dataframe tbody tr th {\n",
       "        vertical-align: top;\n",
       "    }\n",
       "\n",
       "    .dataframe thead th {\n",
       "        text-align: right;\n",
       "    }\n",
       "</style>\n",
       "<table border=\"1\" class=\"dataframe\">\n",
       "  <thead>\n",
       "    <tr style=\"text-align: right;\">\n",
       "      <th></th>\n",
       "      <th>product_name</th>\n",
       "      <th>product_price</th>\n",
       "    </tr>\n",
       "  </thead>\n",
       "  <tbody>\n",
       "    <tr>\n",
       "      <th>0</th>\n",
       "      <td>UpBright AUX in Cable Audio in Cord Compatible...</td>\n",
       "      <td>3.99</td>\n",
       "    </tr>\n",
       "    <tr>\n",
       "      <th>1</th>\n",
       "      <td>UPBRIGHT New USB PC Charging CABE Cord Lead fo...</td>\n",
       "      <td>3.99</td>\n",
       "    </tr>\n",
       "    <tr>\n",
       "      <th>2</th>\n",
       "      <td>125 Bass Speaker Voice Coil, Speaker Coil Repl...</td>\n",
       "      <td>4.49</td>\n",
       "    </tr>\n",
       "    <tr>\n",
       "      <th>3</th>\n",
       "      <td>DGSUS (2PACK) 24 Pin USB 3.1 Type C Female Cha...</td>\n",
       "      <td>4.89</td>\n",
       "    </tr>\n",
       "    <tr>\n",
       "      <th>4</th>\n",
       "      <td>Bullet Ripple Speaker (2.1 x 1.5 x 2.1 inches)...</td>\n",
       "      <td>4.95</td>\n",
       "    </tr>\n",
       "    <tr>\n",
       "      <th>...</th>\n",
       "      <td>...</td>\n",
       "      <td>...</td>\n",
       "    </tr>\n",
       "    <tr>\n",
       "      <th>5386</th>\n",
       "      <td>Bang &amp; Olufsen Beoplay A9 4th Gen Wireless Mul...</td>\n",
       "      <td>5,250.00</td>\n",
       "    </tr>\n",
       "    <tr>\n",
       "      <th>5387</th>\n",
       "      <td>Bang &amp; Olufsen Beosound Balance Wireless Multi...</td>\n",
       "      <td>5,250.00</td>\n",
       "    </tr>\n",
       "    <tr>\n",
       "      <th>5388</th>\n",
       "      <td>Bang &amp; Olufsen Beosound Balance Wireless Multi...</td>\n",
       "      <td>5,500.00</td>\n",
       "    </tr>\n",
       "    <tr>\n",
       "      <th>5389</th>\n",
       "      <td>Custom Pulsar Bluetooth Speaker - 500 PCS - $1...</td>\n",
       "      <td>8,795.00</td>\n",
       "    </tr>\n",
       "    <tr>\n",
       "      <th>5390</th>\n",
       "      <td>Custom Rock Speaker - 250 PCS - $66.15/EA - Pr...</td>\n",
       "      <td>12,505.00</td>\n",
       "    </tr>\n",
       "  </tbody>\n",
       "</table>\n",
       "<p>5391 rows × 2 columns</p>\n",
       "</div>"
      ],
      "text/plain": [
       "                                           product_name  product_price \n",
       "0     UpBright AUX in Cable Audio in Cord Compatible...           3.99 \n",
       "1     UPBRIGHT New USB PC Charging CABE Cord Lead fo...           3.99 \n",
       "2     125 Bass Speaker Voice Coil, Speaker Coil Repl...           4.49 \n",
       "3     DGSUS (2PACK) 24 Pin USB 3.1 Type C Female Cha...           4.89 \n",
       "4     Bullet Ripple Speaker (2.1 x 1.5 x 2.1 inches)...           4.95 \n",
       "...                                                 ...             ...\n",
       "5386  Bang & Olufsen Beoplay A9 4th Gen Wireless Mul...       5,250.00 \n",
       "5387  Bang & Olufsen Beosound Balance Wireless Multi...       5,250.00 \n",
       "5388  Bang & Olufsen Beosound Balance Wireless Multi...       5,500.00 \n",
       "5389  Custom Pulsar Bluetooth Speaker - 500 PCS - $1...       8,795.00 \n",
       "5390  Custom Rock Speaker - 250 PCS - $66.15/EA - Pr...      12,505.00 \n",
       "\n",
       "[5391 rows x 2 columns]"
      ]
     },
     "execution_count": 2,
     "metadata": {},
     "output_type": "execute_result"
    }
   ],
   "source": [
    "# Already use excel to delete duplicated product names, \n",
    "# null product prices, and remove $ marks\n",
    "df = pd.read_csv(\"product_prices.csv\")\n",
    "df1 = df.dropna()\n",
    "df1"
   ]
  },
  {
   "cell_type": "markdown",
   "metadata": {},
   "source": [
    "# Clean Data"
   ]
  },
  {
   "cell_type": "code",
   "execution_count": 3,
   "metadata": {},
   "outputs": [
    {
     "data": {
      "text/html": [
       "<div>\n",
       "<style scoped>\n",
       "    .dataframe tbody tr th:only-of-type {\n",
       "        vertical-align: middle;\n",
       "    }\n",
       "\n",
       "    .dataframe tbody tr th {\n",
       "        vertical-align: top;\n",
       "    }\n",
       "\n",
       "    .dataframe thead th {\n",
       "        text-align: right;\n",
       "    }\n",
       "</style>\n",
       "<table border=\"1\" class=\"dataframe\">\n",
       "  <thead>\n",
       "    <tr style=\"text-align: right;\">\n",
       "      <th></th>\n",
       "      <th>product_name</th>\n",
       "      <th>product_price</th>\n",
       "      <th>y_value</th>\n",
       "    </tr>\n",
       "  </thead>\n",
       "  <tbody>\n",
       "    <tr>\n",
       "      <th>0</th>\n",
       "      <td>UpBright AUX in Cable Audio in Cord Compatible...</td>\n",
       "      <td>3.99</td>\n",
       "      <td>0</td>\n",
       "    </tr>\n",
       "    <tr>\n",
       "      <th>1</th>\n",
       "      <td>UPBRIGHT New USB PC Charging CABE Cord Lead fo...</td>\n",
       "      <td>3.99</td>\n",
       "      <td>0</td>\n",
       "    </tr>\n",
       "    <tr>\n",
       "      <th>2</th>\n",
       "      <td>125 Bass Speaker Voice Coil, Speaker Coil Repl...</td>\n",
       "      <td>4.49</td>\n",
       "      <td>0</td>\n",
       "    </tr>\n",
       "    <tr>\n",
       "      <th>3</th>\n",
       "      <td>DGSUS (2PACK) 24 Pin USB 3.1 Type C Female Cha...</td>\n",
       "      <td>4.89</td>\n",
       "      <td>0</td>\n",
       "    </tr>\n",
       "    <tr>\n",
       "      <th>4</th>\n",
       "      <td>Bullet Ripple Speaker (2.1 x 1.5 x 2.1 inches)...</td>\n",
       "      <td>4.95</td>\n",
       "      <td>0</td>\n",
       "    </tr>\n",
       "    <tr>\n",
       "      <th>...</th>\n",
       "      <td>...</td>\n",
       "      <td>...</td>\n",
       "      <td>...</td>\n",
       "    </tr>\n",
       "    <tr>\n",
       "      <th>5386</th>\n",
       "      <td>Bang &amp; Olufsen Beoplay A9 4th Gen Wireless Mul...</td>\n",
       "      <td>5,250.00</td>\n",
       "      <td>0</td>\n",
       "    </tr>\n",
       "    <tr>\n",
       "      <th>5387</th>\n",
       "      <td>Bang &amp; Olufsen Beosound Balance Wireless Multi...</td>\n",
       "      <td>5,250.00</td>\n",
       "      <td>0</td>\n",
       "    </tr>\n",
       "    <tr>\n",
       "      <th>5388</th>\n",
       "      <td>Bang &amp; Olufsen Beosound Balance Wireless Multi...</td>\n",
       "      <td>5,500.00</td>\n",
       "      <td>0</td>\n",
       "    </tr>\n",
       "    <tr>\n",
       "      <th>5389</th>\n",
       "      <td>Custom Pulsar Bluetooth Speaker - 500 PCS - $1...</td>\n",
       "      <td>8,795.00</td>\n",
       "      <td>0</td>\n",
       "    </tr>\n",
       "    <tr>\n",
       "      <th>5390</th>\n",
       "      <td>Custom Rock Speaker - 250 PCS - $66.15/EA - Pr...</td>\n",
       "      <td>12,505.00</td>\n",
       "      <td>0</td>\n",
       "    </tr>\n",
       "  </tbody>\n",
       "</table>\n",
       "<p>5391 rows × 3 columns</p>\n",
       "</div>"
      ],
      "text/plain": [
       "                                           product_name  product_price   \\\n",
       "0     UpBright AUX in Cable Audio in Cord Compatible...           3.99    \n",
       "1     UPBRIGHT New USB PC Charging CABE Cord Lead fo...           3.99    \n",
       "2     125 Bass Speaker Voice Coil, Speaker Coil Repl...           4.49    \n",
       "3     DGSUS (2PACK) 24 Pin USB 3.1 Type C Female Cha...           4.89    \n",
       "4     Bullet Ripple Speaker (2.1 x 1.5 x 2.1 inches)...           4.95    \n",
       "...                                                 ...             ...   \n",
       "5386  Bang & Olufsen Beoplay A9 4th Gen Wireless Mul...       5,250.00    \n",
       "5387  Bang & Olufsen Beosound Balance Wireless Multi...       5,250.00    \n",
       "5388  Bang & Olufsen Beosound Balance Wireless Multi...       5,500.00    \n",
       "5389  Custom Pulsar Bluetooth Speaker - 500 PCS - $1...       8,795.00    \n",
       "5390  Custom Rock Speaker - 250 PCS - $66.15/EA - Pr...      12,505.00    \n",
       "\n",
       "      y_value  \n",
       "0           0  \n",
       "1           0  \n",
       "2           0  \n",
       "3           0  \n",
       "4           0  \n",
       "...       ...  \n",
       "5386        0  \n",
       "5387        0  \n",
       "5388        0  \n",
       "5389        0  \n",
       "5390        0  \n",
       "\n",
       "[5391 rows x 3 columns]"
      ]
     },
     "execution_count": 3,
     "metadata": {},
     "output_type": "execute_result"
    }
   ],
   "source": [
    "df1['y_value'] = 0\n",
    "df1"
   ]
  },
  {
   "cell_type": "code",
   "execution_count": 4,
   "metadata": {
    "scrolled": true
   },
   "outputs": [
    {
     "name": "stdout",
     "output_type": "stream",
     "text": [
      "Index(['product_name', ' product_price ', 'y_value'], dtype='object')\n"
     ]
    },
    {
     "data": {
      "text/html": [
       "<div>\n",
       "<style scoped>\n",
       "    .dataframe tbody tr th:only-of-type {\n",
       "        vertical-align: middle;\n",
       "    }\n",
       "\n",
       "    .dataframe tbody tr th {\n",
       "        vertical-align: top;\n",
       "    }\n",
       "\n",
       "    .dataframe thead th {\n",
       "        text-align: right;\n",
       "    }\n",
       "</style>\n",
       "<table border=\"1\" class=\"dataframe\">\n",
       "  <thead>\n",
       "    <tr style=\"text-align: right;\">\n",
       "      <th></th>\n",
       "      <th>product_name</th>\n",
       "      <th>price</th>\n",
       "      <th>y_value</th>\n",
       "    </tr>\n",
       "  </thead>\n",
       "  <tbody>\n",
       "    <tr>\n",
       "      <th>0</th>\n",
       "      <td>UpBright AUX in Cable Audio in Cord Compatible...</td>\n",
       "      <td>3.99</td>\n",
       "      <td>0</td>\n",
       "    </tr>\n",
       "    <tr>\n",
       "      <th>1</th>\n",
       "      <td>UPBRIGHT New USB PC Charging CABE Cord Lead fo...</td>\n",
       "      <td>3.99</td>\n",
       "      <td>0</td>\n",
       "    </tr>\n",
       "    <tr>\n",
       "      <th>2</th>\n",
       "      <td>125 Bass Speaker Voice Coil, Speaker Coil Repl...</td>\n",
       "      <td>4.49</td>\n",
       "      <td>0</td>\n",
       "    </tr>\n",
       "  </tbody>\n",
       "</table>\n",
       "</div>"
      ],
      "text/plain": [
       "                                        product_name   price  y_value\n",
       "0  UpBright AUX in Cable Audio in Cord Compatible...   3.99         0\n",
       "1  UPBRIGHT New USB PC Charging CABE Cord Lead fo...   3.99         0\n",
       "2  125 Bass Speaker Voice Coil, Speaker Coil Repl...   4.49         0"
      ]
     },
     "execution_count": 4,
     "metadata": {},
     "output_type": "execute_result"
    }
   ],
   "source": [
    "# Rename the columns\n",
    "\n",
    "print(df1.columns)\n",
    "df2 = df1.rename(columns={'product_name': 'product_name',\n",
    "                          ' product_price ': 'price',\n",
    "                          'y_value': 'y_value'})\n",
    "df2.head(3)"
   ]
  },
  {
   "cell_type": "code",
   "execution_count": 5,
   "metadata": {},
   "outputs": [],
   "source": [
    "# Turn the type of prices into float\n",
    "\n",
    "df2['price'] = df2['price'].replace({'\\,': ''}, regex=True)\n",
    "df2['price'] = df2['price'].astype(float)"
   ]
  },
  {
   "cell_type": "markdown",
   "metadata": {},
   "source": [
    "# Remove Outliners"
   ]
  },
  {
   "cell_type": "code",
   "execution_count": 6,
   "metadata": {
    "scrolled": true
   },
   "outputs": [
    {
     "name": "stdout",
     "output_type": "stream",
     "text": [
      "1.0 86 1.60%\n",
      "1.5 42 0.78%\n",
      "2.0 37 0.69%\n",
      "2.5 29 0.54%\n",
      "3.0 24 0.45%\n"
     ]
    }
   ],
   "source": [
    "from scipy import stats\n",
    "import numpy as np\n",
    "\n",
    "z = np.abs(stats.zscore(df2.price))\n",
    "df2['Zscore'] = z\n",
    "\n",
    "for i in np.arange(1, 3.5, 0.5):\n",
    "    \n",
    "    x = i\n",
    "    y = len(df2[df2.Zscore > i])\n",
    "    z = \"{:.2%}\".format(len(df2[df2.Zscore > i]) / len(df2))\n",
    "\n",
    "    print(x, y, z)\n",
    "    \n",
    "# https://towardsdatascience.com/ways-to-detect-and-remove-the-outliers-404d16608dba"
   ]
  },
  {
   "cell_type": "code",
   "execution_count": 7,
   "metadata": {},
   "outputs": [
    {
     "data": {
      "text/html": [
       "<div>\n",
       "<style scoped>\n",
       "    .dataframe tbody tr th:only-of-type {\n",
       "        vertical-align: middle;\n",
       "    }\n",
       "\n",
       "    .dataframe tbody tr th {\n",
       "        vertical-align: top;\n",
       "    }\n",
       "\n",
       "    .dataframe thead th {\n",
       "        text-align: right;\n",
       "    }\n",
       "</style>\n",
       "<table border=\"1\" class=\"dataframe\">\n",
       "  <thead>\n",
       "    <tr style=\"text-align: right;\">\n",
       "      <th></th>\n",
       "      <th>product_name</th>\n",
       "      <th>price</th>\n",
       "      <th>y_value</th>\n",
       "      <th>Zscore</th>\n",
       "    </tr>\n",
       "  </thead>\n",
       "  <tbody>\n",
       "    <tr>\n",
       "      <th>5349</th>\n",
       "      <td>Bose Home Speaker 500 with Alexa Voice Control...</td>\n",
       "      <td>548.00</td>\n",
       "      <td>0</td>\n",
       "      <td>1.616700</td>\n",
       "    </tr>\n",
       "    <tr>\n",
       "      <th>5350</th>\n",
       "      <td>EPOS Expand 80T</td>\n",
       "      <td>575.39</td>\n",
       "      <td>0</td>\n",
       "      <td>1.710587</td>\n",
       "    </tr>\n",
       "    <tr>\n",
       "      <th>5351</th>\n",
       "      <td>Bluesound Pulse 2 Wireless Multi-Room Smart Sp...</td>\n",
       "      <td>578.07</td>\n",
       "      <td>0</td>\n",
       "      <td>1.719774</td>\n",
       "    </tr>\n",
       "  </tbody>\n",
       "</table>\n",
       "</div>"
      ],
      "text/plain": [
       "                                           product_name   price  y_value  \\\n",
       "5349  Bose Home Speaker 500 with Alexa Voice Control...  548.00        0   \n",
       "5350                                    EPOS Expand 80T  575.39        0   \n",
       "5351  Bluesound Pulse 2 Wireless Multi-Room Smart Sp...  578.07        0   \n",
       "\n",
       "        Zscore  \n",
       "5349  1.616700  \n",
       "5350  1.710587  \n",
       "5351  1.719774  "
      ]
     },
     "execution_count": 7,
     "metadata": {},
     "output_type": "execute_result"
    }
   ],
   "source": [
    "df2[df2.Zscore > 1.5].head(3)"
   ]
  },
  {
   "cell_type": "code",
   "execution_count": 8,
   "metadata": {},
   "outputs": [
    {
     "data": {
      "text/plain": [
       "5349"
      ]
     },
     "execution_count": 8,
     "metadata": {},
     "output_type": "execute_result"
    }
   ],
   "source": [
    "# Drop product prices > 500\n",
    "df3 = df2.loc[(df2['price'] <= 500)]\n",
    "len(df3)"
   ]
  },
  {
   "cell_type": "code",
   "execution_count": 9,
   "metadata": {},
   "outputs": [
    {
     "data": {
      "image/png": "[encoded data removed]",
      "text/plain": [
       "<Figure size 432x288 with 1 Axes>"
      ]
     },
     "metadata": {
      "needs_background": "light"
     },
     "output_type": "display_data"
    }
   ],
   "source": [
    "# Confirm the data distribution\n",
    "plt.hist(df3['price'], bins=100);"
   ]
  },
  {
   "cell_type": "code",
   "execution_count": 10,
   "metadata": {},
   "outputs": [
    {
     "data": {
      "image/png": "[encoded data removed]",
      "text/plain": [
       "<Figure size 432x288 with 1 Axes>"
      ]
     },
     "metadata": {
      "needs_background": "light"
     },
     "output_type": "display_data"
    }
   ],
   "source": [
    "# Confirm the data distribution\n",
    "df3['y_value'] = 0\n",
    "plt.scatter(df3['price'], df3['y_value']);"
   ]
  },
  {
   "cell_type": "markdown",
   "metadata": {},
   "source": [
    "# Elbow Method"
   ]
  },
  {
   "cell_type": "code",
   "execution_count": 11,
   "metadata": {},
   "outputs": [],
   "source": [
    "sse = []\n",
    "k_rng = range(1,10)\n",
    "for k in k_rng:\n",
    "    km = KMeans(n_clusters=k)\n",
    "    km.fit(df3[['price','y_value']])\n",
    "    sse.append(km.inertia_)"
   ]
  },
  {
   "cell_type": "code",
   "execution_count": 12,
   "metadata": {},
   "outputs": [
    {
     "data": {
      "image/png": "[encoded data removed]",
      "text/plain": [
       "<Figure size 432x288 with 1 Axes>"
      ]
     },
     "metadata": {
      "needs_background": "light"
     },
     "output_type": "display_data"
    }
   ],
   "source": [
    "plt.plot(k_rng, sse)\n",
    "plt.xlabel('K')\n",
    "plt.ylabel('Sum of squared error')\n",
    "\n",
    "plt.savefig('kmeans',dpi=500)"
   ]
  },
  {
   "cell_type": "markdown",
   "metadata": {},
   "source": [
    "# Clustering"
   ]
  },
  {
   "cell_type": "code",
   "execution_count": 13,
   "metadata": {},
   "outputs": [],
   "source": [
    "# Clustering\n",
    "km = KMeans(n_clusters=5)\n",
    "x_predicted = km.fit_predict(df3[['y_value','price']])\n",
    "df3['cluster'] = x_predicted"
   ]
  },
  {
   "cell_type": "markdown",
   "metadata": {},
   "source": [
    "### Create data frames for five clusters"
   ]
  },
  {
   "cell_type": "code",
   "execution_count": 14,
   "metadata": {},
   "outputs": [
    {
     "data": {
      "image/png": "[encoded data removed]",
      "text/plain": [
       "<Figure size 576x360 with 1 Axes>"
      ]
     },
     "metadata": {
      "needs_background": "light"
     },
     "output_type": "display_data"
    }
   ],
   "source": [
    "df_c1 = df3[df3.cluster==df3['cluster'].unique()[0]]\n",
    "df_c2 = df3[df3.cluster==df3['cluster'].unique()[1]]\n",
    "df_c3 = df3[df3.cluster==df3['cluster'].unique()[2]]\n",
    "df_c4 = df3[df3.cluster==df3['cluster'].unique()[3]]\n",
    "df_c5 = df3[df3.cluster==df3['cluster'].unique()[4]]\n",
    "\n",
    "# Figure Size\n",
    "plt.figure(figsize=(8,5))\n",
    "\n",
    "# Plot five clusters\n",
    "plt.scatter(df_c1['price'], df_c1['y_value'], c='#e6194B', label='cluster 1')\n",
    "plt.scatter(df_c2['price'], df_c2['y_value'], c='#ffe119', label='cluster 2')\n",
    "plt.scatter(df_c3['price'], df_c3['y_value'], c='#3cb44b', label='cluster 3')\n",
    "plt.scatter(df_c4['price'], df_c4['y_value'], c='#42d4f4', label='cluster 4')\n",
    "plt.scatter(df_c5['price'], df_c5['y_value'], c='#f032e6', label='cluster 5')\n",
    "\n",
    "# Plot five centroids\n",
    "plt.scatter(km.cluster_centers_[:,1], km.cluster_centers_[:,0], c='black', marker='x',\n",
    "            label='centroid')\n",
    "\n",
    "# Add more information to the fiqure\n",
    "plt.xlabel('Product Price')\n",
    "plt.ylabel('')\n",
    "plt.legend();\n",
    "\n",
    "# Save the figure\n",
    "plt.savefig('price clusters.png', dpi=500)"
   ]
  },
  {
   "cell_type": "markdown",
   "metadata": {},
   "source": [
    "# Indentify Price Levels"
   ]
  },
  {
   "cell_type": "code",
   "execution_count": 15,
   "metadata": {},
   "outputs": [
    {
     "data": {
      "text/html": [
       "<div>\n",
       "<style scoped>\n",
       "    .dataframe tbody tr th:only-of-type {\n",
       "        vertical-align: middle;\n",
       "    }\n",
       "\n",
       "    .dataframe tbody tr th {\n",
       "        vertical-align: top;\n",
       "    }\n",
       "\n",
       "    .dataframe thead th {\n",
       "        text-align: right;\n",
       "    }\n",
       "</style>\n",
       "<table border=\"1\" class=\"dataframe\">\n",
       "  <thead>\n",
       "    <tr style=\"text-align: right;\">\n",
       "      <th></th>\n",
       "      <th>Cluster</th>\n",
       "      <th>Lowest Price</th>\n",
       "      <th>Highest Price</th>\n",
       "      <th>Average Price</th>\n",
       "      <th>Product Amount</th>\n",
       "    </tr>\n",
       "  </thead>\n",
       "  <tbody>\n",
       "    <tr>\n",
       "      <th>0</th>\n",
       "      <td>1</td>\n",
       "      <td>3.99</td>\n",
       "      <td>37.51</td>\n",
       "      <td>22.66</td>\n",
       "      <td>2,350</td>\n",
       "    </tr>\n",
       "    <tr>\n",
       "      <th>1</th>\n",
       "      <td>2</td>\n",
       "      <td>37.55</td>\n",
       "      <td>78.33</td>\n",
       "      <td>52.51</td>\n",
       "      <td>1,842</td>\n",
       "    </tr>\n",
       "    <tr>\n",
       "      <th>2</th>\n",
       "      <td>3</td>\n",
       "      <td>78.50</td>\n",
       "      <td>154.99</td>\n",
       "      <td>104.76</td>\n",
       "      <td>830</td>\n",
       "    </tr>\n",
       "    <tr>\n",
       "      <th>3</th>\n",
       "      <td>4</td>\n",
       "      <td>155.74</td>\n",
       "      <td>299.99</td>\n",
       "      <td>206.01</td>\n",
       "      <td>259</td>\n",
       "    </tr>\n",
       "    <tr>\n",
       "      <th>4</th>\n",
       "      <td>5</td>\n",
       "      <td>313.74</td>\n",
       "      <td>500.00</td>\n",
       "      <td>410.73</td>\n",
       "      <td>68</td>\n",
       "    </tr>\n",
       "  </tbody>\n",
       "</table>\n",
       "</div>"
      ],
      "text/plain": [
       "   Cluster  Lowest Price  Highest Price  Average Price Product Amount\n",
       "0        1          3.99          37.51          22.66          2,350\n",
       "1        2         37.55          78.33          52.51          1,842\n",
       "2        3         78.50         154.99         104.76            830\n",
       "3        4        155.74         299.99         206.01            259\n",
       "4        5        313.74         500.00         410.73             68"
      ]
     },
     "execution_count": 15,
     "metadata": {},
     "output_type": "execute_result"
    }
   ],
   "source": [
    "# Create data frame\n",
    "\n",
    "data = {'Cluster': [1, 2, 3, 4, 5],\n",
    "                \n",
    "        'Lowest Price': \n",
    "        [float(df_c1.price.min()), float(df_c2.price.min()), float(df_c3.price.min()),\n",
    "        float(df_c4.price.min()), float(df_c5.price.min())],\n",
    "                \n",
    "        'Highest Price':\n",
    "        [float(df_c1.price.max()), float(df_c2.price.max()), float(df_c3.price.max()),\n",
    "        float(df_c4.price.max()), float(df_c5.price.max())],\n",
    "                \n",
    "        'Average Price':\n",
    "        [round(float(df_c1.price.mean()), 2), round(float(df_c2.price.mean()), 2), \n",
    "        round(float(df_c3.price.mean()), 2), round(float(df_c4.price.mean()), 2), \n",
    "        round(float(df_c5.price.mean()), 2)],\n",
    "        \n",
    "        'Product Amount': \n",
    "        [f'{float(df_c1.price.count()):,g}', f'{float(df_c2.price.count()):,g}',\n",
    "        f'{float(df_c3.price.count()):,g}', f'{float(df_c4.price.count()):,g}',\n",
    "        f'{float(df_c5.price.count()):,g}']\n",
    "               }\n",
    "\n",
    "df_price_levels = pd.DataFrame(data, columns =\n",
    "                               ['Cluster', 'Lowest Price', \n",
    "                                'Highest Price', 'Average Price', \n",
    "                                'Product Amount'])\n",
    "\n",
    "df_price_levels"
   ]
  },
  {
   "cell_type": "markdown",
   "metadata": {},
   "source": [
    "# Save to csv"
   ]
  },
  {
   "cell_type": "code",
   "execution_count": 16,
   "metadata": {},
   "outputs": [
    {
     "data": {
      "text/html": [
       "<div>\n",
       "<style scoped>\n",
       "    .dataframe tbody tr th:only-of-type {\n",
       "        vertical-align: middle;\n",
       "    }\n",
       "\n",
       "    .dataframe tbody tr th {\n",
       "        vertical-align: top;\n",
       "    }\n",
       "\n",
       "    .dataframe thead th {\n",
       "        text-align: right;\n",
       "    }\n",
       "</style>\n",
       "<table border=\"1\" class=\"dataframe\">\n",
       "  <thead>\n",
       "    <tr style=\"text-align: right;\">\n",
       "      <th></th>\n",
       "      <th>product_name</th>\n",
       "      <th>price</th>\n",
       "      <th>y_value</th>\n",
       "      <th>Zscore</th>\n",
       "      <th>cluster</th>\n",
       "    </tr>\n",
       "  </thead>\n",
       "  <tbody>\n",
       "    <tr>\n",
       "      <th>0</th>\n",
       "      <td>UpBright AUX in Cable Audio in Cord Compatible...</td>\n",
       "      <td>3.99</td>\n",
       "      <td>0</td>\n",
       "      <td>0.248060</td>\n",
       "      <td>3</td>\n",
       "    </tr>\n",
       "    <tr>\n",
       "      <th>1</th>\n",
       "      <td>UPBRIGHT New USB PC Charging CABE Cord Lead fo...</td>\n",
       "      <td>3.99</td>\n",
       "      <td>0</td>\n",
       "      <td>0.248060</td>\n",
       "      <td>3</td>\n",
       "    </tr>\n",
       "    <tr>\n",
       "      <th>2</th>\n",
       "      <td>125 Bass Speaker Voice Coil, Speaker Coil Repl...</td>\n",
       "      <td>4.49</td>\n",
       "      <td>0</td>\n",
       "      <td>0.246346</td>\n",
       "      <td>3</td>\n",
       "    </tr>\n",
       "    <tr>\n",
       "      <th>3</th>\n",
       "      <td>DGSUS (2PACK) 24 Pin USB 3.1 Type C Female Cha...</td>\n",
       "      <td>4.89</td>\n",
       "      <td>0</td>\n",
       "      <td>0.244975</td>\n",
       "      <td>3</td>\n",
       "    </tr>\n",
       "    <tr>\n",
       "      <th>4</th>\n",
       "      <td>Bullet Ripple Speaker (2.1 x 1.5 x 2.1 inches)...</td>\n",
       "      <td>4.95</td>\n",
       "      <td>0</td>\n",
       "      <td>0.244769</td>\n",
       "      <td>3</td>\n",
       "    </tr>\n",
       "  </tbody>\n",
       "</table>\n",
       "</div>"
      ],
      "text/plain": [
       "                                        product_name  price  y_value  \\\n",
       "0  UpBright AUX in Cable Audio in Cord Compatible...   3.99        0   \n",
       "1  UPBRIGHT New USB PC Charging CABE Cord Lead fo...   3.99        0   \n",
       "2  125 Bass Speaker Voice Coil, Speaker Coil Repl...   4.49        0   \n",
       "3  DGSUS (2PACK) 24 Pin USB 3.1 Type C Female Cha...   4.89        0   \n",
       "4  Bullet Ripple Speaker (2.1 x 1.5 x 2.1 inches)...   4.95        0   \n",
       "\n",
       "     Zscore  cluster  \n",
       "0  0.248060        3  \n",
       "1  0.248060        3  \n",
       "2  0.246346        3  \n",
       "3  0.244975        3  \n",
       "4  0.244769        3  "
      ]
     },
     "execution_count": 16,
     "metadata": {},
     "output_type": "execute_result"
    }
   ],
   "source": [
    "df3.head()"
   ]
  },
  {
   "cell_type": "code",
   "execution_count": 17,
   "metadata": {},
   "outputs": [],
   "source": [
    "df3.to_csv('price_clusters.csv')"
   ]
  },
  {
   "cell_type": "code",
   "execution_count": null,
   "metadata": {},
   "outputs": [],
   "source": []
  }
 ],
 "metadata": {
  "kernelspec": {
   "display_name": "Python 3",
   "language": "python",
   "name": "python3"
  },
  "language_info": {
   "codemirror_mode": {
    "name": "ipython",
    "version": 3
   },
   "file_extension": ".py",
   "mimetype": "text/x-python",
   "name": "python",
   "nbconvert_exporter": "python",
   "pygments_lexer": "ipython3",
   "version": "3.8.5"
  }
 },
 "nbformat": 4,
 "nbformat_minor": 4
}
