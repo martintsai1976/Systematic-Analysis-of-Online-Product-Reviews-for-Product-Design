{
 "cells": [
  {
   "cell_type": "code",
   "execution_count": 1,
   "metadata": {},
   "outputs": [],
   "source": [
    "import numpy as np\n",
    "import pandas as pd"
   ]
  },
  {
   "cell_type": "markdown",
   "metadata": {},
   "source": [
    "# Calculate the sum of reviews"
   ]
  },
  {
   "cell_type": "code",
   "execution_count": 2,
   "metadata": {},
   "outputs": [
    {
     "data": {
      "text/html": [
       "<div>\n",
       "<style scoped>\n",
       "    .dataframe tbody tr th:only-of-type {\n",
       "        vertical-align: middle;\n",
       "    }\n",
       "\n",
       "    .dataframe tbody tr th {\n",
       "        vertical-align: top;\n",
       "    }\n",
       "\n",
       "    .dataframe thead th {\n",
       "        text-align: right;\n",
       "    }\n",
       "</style>\n",
       "<table border=\"1\" class=\"dataframe\">\n",
       "  <thead>\n",
       "    <tr style=\"text-align: right;\">\n",
       "      <th></th>\n",
       "      <th>web-scraper-order</th>\n",
       "      <th>web-scraper-start-url</th>\n",
       "      <th>product_page</th>\n",
       "      <th>product_page-href</th>\n",
       "      <th>see_all_review</th>\n",
       "      <th>see_all_review-href</th>\n",
       "      <th>global reviews</th>\n",
       "    </tr>\n",
       "  </thead>\n",
       "  <tbody>\n",
       "    <tr>\n",
       "      <th>0</th>\n",
       "      <td>1614227020-5916</td>\n",
       "      <td>https://www.amazon.com/s?k=Portable+Bluetooth+...</td>\n",
       "      <td>ELEGIANT Home Audio Speakers LED bluetooth spe...</td>\n",
       "      <td>https://www.amazon.com/Bluetooth-ELEGIANT-Wire...</td>\n",
       "      <td>See all reviews</td>\n",
       "      <td>https://www.amazon.com/Bluetooth-ELEGIANT-Wire...</td>\n",
       "      <td>121 global ratings | 48 global reviews</td>\n",
       "    </tr>\n",
       "    <tr>\n",
       "      <th>1</th>\n",
       "      <td>1614224585-5454</td>\n",
       "      <td>https://www.amazon.com/s?k=Portable+Bluetooth+...</td>\n",
       "      <td>iLive iHB603B Wireless Bluetooth Speaker Syste...</td>\n",
       "      <td>https://www.amazon.com/iLive-iHB603B-Wireless-...</td>\n",
       "      <td>See all reviews</td>\n",
       "      <td>https://www.amazon.com/iLive-iHB603B-Wireless-...</td>\n",
       "      <td>853 global ratings | 748 global reviews</td>\n",
       "    </tr>\n",
       "    <tr>\n",
       "      <th>2</th>\n",
       "      <td>1614223590-5267</td>\n",
       "      <td>https://www.amazon.com/s?k=Portable+Bluetooth+...</td>\n",
       "      <td>Simple Living Technology Stickup Original Wate...</td>\n",
       "      <td>https://www.amazon.com/Simple-Living-Technolog...</td>\n",
       "      <td>See all reviews</td>\n",
       "      <td>https://www.amazon.com/Simple-Living-Technolog...</td>\n",
       "      <td>27 global ratings | 23 global reviews</td>\n",
       "    </tr>\n",
       "  </tbody>\n",
       "</table>\n",
       "</div>"
      ],
      "text/plain": [
       "  web-scraper-order                              web-scraper-start-url  \\\n",
       "0   1614227020-5916  https://www.amazon.com/s?k=Portable+Bluetooth+...   \n",
       "1   1614224585-5454  https://www.amazon.com/s?k=Portable+Bluetooth+...   \n",
       "2   1614223590-5267  https://www.amazon.com/s?k=Portable+Bluetooth+...   \n",
       "\n",
       "                                        product_page  \\\n",
       "0  ELEGIANT Home Audio Speakers LED bluetooth spe...   \n",
       "1  iLive iHB603B Wireless Bluetooth Speaker Syste...   \n",
       "2  Simple Living Technology Stickup Original Wate...   \n",
       "\n",
       "                                   product_page-href   see_all_review  \\\n",
       "0  https://www.amazon.com/Bluetooth-ELEGIANT-Wire...  See all reviews   \n",
       "1  https://www.amazon.com/iLive-iHB603B-Wireless-...  See all reviews   \n",
       "2  https://www.amazon.com/Simple-Living-Technolog...  See all reviews   \n",
       "\n",
       "                                 see_all_review-href  \\\n",
       "0  https://www.amazon.com/Bluetooth-ELEGIANT-Wire...   \n",
       "1  https://www.amazon.com/iLive-iHB603B-Wireless-...   \n",
       "2  https://www.amazon.com/Simple-Living-Technolog...   \n",
       "\n",
       "                            global reviews  \n",
       "0   121 global ratings | 48 global reviews  \n",
       "1  853 global ratings | 748 global reviews  \n",
       "2    27 global ratings | 23 global reviews  "
      ]
     },
     "execution_count": 2,
     "metadata": {},
     "output_type": "execute_result"
    }
   ],
   "source": [
    "# Data exploration\n",
    "rv_sum = pd.read_csv('review_scraper_number.csv')\n",
    "rv_sum.head(3)"
   ]
  },
  {
   "cell_type": "code",
   "execution_count": 3,
   "metadata": {},
   "outputs": [],
   "source": [
    "# Drop useless columns\n",
    "rv_sum_1 = rv_sum[['product_page', 'global reviews']]\n",
    "\n",
    "# Drop nan values\n",
    "rv_sum_2 = rv_sum_1.dropna()\n",
    "\n",
    "# Drop duplicate products\n",
    "rv_sum_3 = rv_sum_2.drop_duplicates(subset='product_page')"
   ]
  },
  {
   "cell_type": "code",
   "execution_count": 4,
   "metadata": {},
   "outputs": [
    {
     "data": {
      "text/html": [
       "<div>\n",
       "<style scoped>\n",
       "    .dataframe tbody tr th:only-of-type {\n",
       "        vertical-align: middle;\n",
       "    }\n",
       "\n",
       "    .dataframe tbody tr th {\n",
       "        vertical-align: top;\n",
       "    }\n",
       "\n",
       "    .dataframe thead th {\n",
       "        text-align: right;\n",
       "    }\n",
       "</style>\n",
       "<table border=\"1\" class=\"dataframe\">\n",
       "  <thead>\n",
       "    <tr style=\"text-align: right;\">\n",
       "      <th></th>\n",
       "      <th>product_name</th>\n",
       "      <th>review_number</th>\n",
       "    </tr>\n",
       "  </thead>\n",
       "  <tbody>\n",
       "    <tr>\n",
       "      <th>0</th>\n",
       "      <td>ELEGIANT Home Audio Speakers LED bluetooth spe...</td>\n",
       "      <td>121 global ratings | 48 global reviews</td>\n",
       "    </tr>\n",
       "    <tr>\n",
       "      <th>1</th>\n",
       "      <td>iLive iHB603B Wireless Bluetooth Speaker Syste...</td>\n",
       "      <td>853 global ratings | 748 global reviews</td>\n",
       "    </tr>\n",
       "    <tr>\n",
       "      <th>2</th>\n",
       "      <td>Simple Living Technology Stickup Original Wate...</td>\n",
       "      <td>27 global ratings | 23 global reviews</td>\n",
       "    </tr>\n",
       "  </tbody>\n",
       "</table>\n",
       "</div>"
      ],
      "text/plain": [
       "                                        product_name  \\\n",
       "0  ELEGIANT Home Audio Speakers LED bluetooth spe...   \n",
       "1  iLive iHB603B Wireless Bluetooth Speaker Syste...   \n",
       "2  Simple Living Technology Stickup Original Wate...   \n",
       "\n",
       "                             review_number  \n",
       "0   121 global ratings | 48 global reviews  \n",
       "1  853 global ratings | 748 global reviews  \n",
       "2    27 global ratings | 23 global reviews  "
      ]
     },
     "execution_count": 4,
     "metadata": {},
     "output_type": "execute_result"
    }
   ],
   "source": [
    "# Rename columns\n",
    "rv_sum_4 = rv_sum_3.rename(columns={'product_page': 'product_name',\n",
    "                                   'global reviews': 'review_number'})\n",
    "rv_sum_4.head(3)"
   ]
  },
  {
   "cell_type": "code",
   "execution_count": 5,
   "metadata": {},
   "outputs": [
    {
     "data": {
      "text/html": [
       "<div>\n",
       "<style scoped>\n",
       "    .dataframe tbody tr th:only-of-type {\n",
       "        vertical-align: middle;\n",
       "    }\n",
       "\n",
       "    .dataframe tbody tr th {\n",
       "        vertical-align: top;\n",
       "    }\n",
       "\n",
       "    .dataframe thead th {\n",
       "        text-align: right;\n",
       "    }\n",
       "</style>\n",
       "<table border=\"1\" class=\"dataframe\">\n",
       "  <thead>\n",
       "    <tr style=\"text-align: right;\">\n",
       "      <th></th>\n",
       "      <th>product_name</th>\n",
       "      <th>review_number</th>\n",
       "      <th>global_reviews</th>\n",
       "    </tr>\n",
       "  </thead>\n",
       "  <tbody>\n",
       "    <tr>\n",
       "      <th>0</th>\n",
       "      <td>ELEGIANT Home Audio Speakers LED bluetooth spe...</td>\n",
       "      <td>121 global ratings | 48 global reviews</td>\n",
       "      <td>48 global reviews</td>\n",
       "    </tr>\n",
       "    <tr>\n",
       "      <th>1</th>\n",
       "      <td>iLive iHB603B Wireless Bluetooth Speaker Syste...</td>\n",
       "      <td>853 global ratings | 748 global reviews</td>\n",
       "      <td>748 global reviews</td>\n",
       "    </tr>\n",
       "    <tr>\n",
       "      <th>2</th>\n",
       "      <td>Simple Living Technology Stickup Original Wate...</td>\n",
       "      <td>27 global ratings | 23 global reviews</td>\n",
       "      <td>23 global reviews</td>\n",
       "    </tr>\n",
       "  </tbody>\n",
       "</table>\n",
       "</div>"
      ],
      "text/plain": [
       "                                        product_name  \\\n",
       "0  ELEGIANT Home Audio Speakers LED bluetooth spe...   \n",
       "1  iLive iHB603B Wireless Bluetooth Speaker Syste...   \n",
       "2  Simple Living Technology Stickup Original Wate...   \n",
       "\n",
       "                             review_number      global_reviews  \n",
       "0   121 global ratings | 48 global reviews   48 global reviews  \n",
       "1  853 global ratings | 748 global reviews  748 global reviews  \n",
       "2    27 global ratings | 23 global reviews   23 global reviews  "
      ]
     },
     "execution_count": 5,
     "metadata": {},
     "output_type": "execute_result"
    }
   ],
   "source": [
    "# Get only the review numbers\n",
    "rv_sum_4['global_reviews'] = rv_sum_4.review_number.str.rsplit(' | ').str[-1]\n",
    "rv_sum_4.head(3)"
   ]
  },
  {
   "cell_type": "code",
   "execution_count": 6,
   "metadata": {},
   "outputs": [
    {
     "data": {
      "text/html": [
       "<div>\n",
       "<style scoped>\n",
       "    .dataframe tbody tr th:only-of-type {\n",
       "        vertical-align: middle;\n",
       "    }\n",
       "\n",
       "    .dataframe tbody tr th {\n",
       "        vertical-align: top;\n",
       "    }\n",
       "\n",
       "    .dataframe thead th {\n",
       "        text-align: right;\n",
       "    }\n",
       "</style>\n",
       "<table border=\"1\" class=\"dataframe\">\n",
       "  <thead>\n",
       "    <tr style=\"text-align: right;\">\n",
       "      <th></th>\n",
       "      <th>product_name</th>\n",
       "      <th>global_reviews_2</th>\n",
       "    </tr>\n",
       "  </thead>\n",
       "  <tbody>\n",
       "    <tr>\n",
       "      <th>0</th>\n",
       "      <td>ELEGIANT Home Audio Speakers LED bluetooth spe...</td>\n",
       "      <td>48</td>\n",
       "    </tr>\n",
       "    <tr>\n",
       "      <th>1</th>\n",
       "      <td>iLive iHB603B Wireless Bluetooth Speaker Syste...</td>\n",
       "      <td>748</td>\n",
       "    </tr>\n",
       "    <tr>\n",
       "      <th>2</th>\n",
       "      <td>Simple Living Technology Stickup Original Wate...</td>\n",
       "      <td>23</td>\n",
       "    </tr>\n",
       "    <tr>\n",
       "      <th>4</th>\n",
       "      <td>LiSHARK Portable Wireless Bluetooth Speaker,IP...</td>\n",
       "      <td>28</td>\n",
       "    </tr>\n",
       "    <tr>\n",
       "      <th>5</th>\n",
       "      <td>iHip little dude bluetooth wireless portable s...</td>\n",
       "      <td>4</td>\n",
       "    </tr>\n",
       "  </tbody>\n",
       "</table>\n",
       "</div>"
      ],
      "text/plain": [
       "                                        product_name global_reviews_2\n",
       "0  ELEGIANT Home Audio Speakers LED bluetooth spe...               48\n",
       "1  iLive iHB603B Wireless Bluetooth Speaker Syste...              748\n",
       "2  Simple Living Technology Stickup Original Wate...               23\n",
       "4  LiSHARK Portable Wireless Bluetooth Speaker,IP...               28\n",
       "5  iHip little dude bluetooth wireless portable s...                4"
      ]
     },
     "execution_count": 6,
     "metadata": {},
     "output_type": "execute_result"
    }
   ],
   "source": [
    "# Replace the word 'global reviews'\n",
    "rv_sum_4['global_reviews_2'] = rv_sum_4['global_reviews'].str.replace(' global reviews', '')\n",
    "rv_sum_4.head(3)\n",
    "\n",
    "rv_sum_5 = rv_sum_4[['product_name','global_reviews_2']]\n",
    "rv_sum_5.head(5)"
   ]
  },
  {
   "cell_type": "code",
   "execution_count": 7,
   "metadata": {},
   "outputs": [
    {
     "name": "stderr",
     "output_type": "stream",
     "text": [
      "<ipython-input-7-34cc3de6e4d0>:2: SettingWithCopyWarning: \n",
      "A value is trying to be set on a copy of a slice from a DataFrame.\n",
      "Try using .loc[row_indexer,col_indexer] = value instead\n",
      "\n",
      "See the caveats in the documentation: https://pandas.pydata.org/pandas-docs/stable/user_guide/indexing.html#returning-a-view-versus-a-copy\n",
      "  rv_sum_5['global_reviews_3'] = rv_sum_5['global_reviews_2'].str.replace(',', '')\n"
     ]
    }
   ],
   "source": [
    "# Replace comma and 'global review'\n",
    "rv_sum_5['global_reviews_3'] = rv_sum_5['global_reviews_2'].str.replace(',', '')\n",
    "rv_sum_6 = rv_sum_5[['product_name', 'global_reviews_3']]\n",
    "\n",
    "rv_sum_6['global_reviews_4'] = rv_sum_6['global_reviews_3'].str.replace(' global review', '')\n",
    "rv_sum_7 = rv_sum_6[['product_name', 'global_reviews_4']]"
   ]
  },
  {
   "cell_type": "code",
   "execution_count": 8,
   "metadata": {},
   "outputs": [
    {
     "data": {
      "text/plain": [
       "639822.0"
      ]
     },
     "execution_count": 8,
     "metadata": {},
     "output_type": "execute_result"
    }
   ],
   "source": [
    "# Calculate the sum of reviews\n",
    "rv_sum_7['global_reviews_4'].astype(float).sum()"
   ]
  },
  {
   "cell_type": "markdown",
   "metadata": {},
   "source": [
    "# Merge the review files"
   ]
  },
  {
   "cell_type": "code",
   "execution_count": 9,
   "metadata": {},
   "outputs": [],
   "source": [
    "rv_1 = pd.read_csv('review_scraper (1-2).csv')\n",
    "rv_3 = pd.read_csv('review_scraper (3).csv')\n",
    "rv_4 = pd.read_csv('review_scraper (4).csv')\n",
    "rv_5 = pd.read_csv('review_scraper (5-8).csv')\n",
    "rv_9 = pd.read_csv('review_scraper (9).csv')\n",
    "rv_10 = pd.read_csv('review_scraper (10-19).csv')\n",
    "rv_20 = pd.read_csv('review_scraper (20-29).csv')\n",
    "rv_30 = pd.read_csv('review_scraper (30-39).csv')\n",
    "rv_40 = pd.read_csv('review_scraper (40-49).csv')\n",
    "rv_50 = pd.read_csv('review_scraper (50-59).csv')\n",
    "rv_60 = pd.read_csv('review_scraper (60-69).csv')\n",
    "rv_70 = pd.read_csv('review_scraper (70-79).csv')\n",
    "rv_80 = pd.read_csv('review_scraper (80-89).csv')\n",
    "rv_90 = pd.read_csv('review_scraper (90-99).csv')\n",
    "rv_100 = pd.read_csv('review_scraper (100-110).csv')"
   ]
  },
  {
   "cell_type": "code",
   "execution_count": 10,
   "metadata": {},
   "outputs": [],
   "source": [
    "frames = [rv_1, rv_3, rv_4, rv_5, rv_9,\n",
    "         rv_10, rv_20, rv_30, rv_40, rv_50,\n",
    "         rv_60, rv_70, rv_80, rv_90, rv_100]\n",
    "\n",
    "rv_all = pd.concat(frames)"
   ]
  },
  {
   "cell_type": "code",
   "execution_count": 11,
   "metadata": {},
   "outputs": [
    {
     "name": "stdout",
     "output_type": "stream",
     "text": [
      "(326421, 12)\n"
     ]
    },
    {
     "data": {
      "text/html": [
       "<div>\n",
       "<style scoped>\n",
       "    .dataframe tbody tr th:only-of-type {\n",
       "        vertical-align: middle;\n",
       "    }\n",
       "\n",
       "    .dataframe tbody tr th {\n",
       "        vertical-align: top;\n",
       "    }\n",
       "\n",
       "    .dataframe thead th {\n",
       "        text-align: right;\n",
       "    }\n",
       "</style>\n",
       "<table border=\"1\" class=\"dataframe\">\n",
       "  <thead>\n",
       "    <tr style=\"text-align: right;\">\n",
       "      <th></th>\n",
       "      <th>web-scraper-order</th>\n",
       "      <th>web-scraper-start-url</th>\n",
       "      <th>product_page</th>\n",
       "      <th>product_page-href</th>\n",
       "      <th>see_all_review</th>\n",
       "      <th>see_all_review-href</th>\n",
       "      <th>review_reviewer</th>\n",
       "      <th>review_rating</th>\n",
       "      <th>review_title</th>\n",
       "      <th>review_locationAndDate</th>\n",
       "      <th>review_content</th>\n",
       "      <th>review_peopleFoundHelpful</th>\n",
       "    </tr>\n",
       "  </thead>\n",
       "  <tbody>\n",
       "    <tr>\n",
       "      <th>0</th>\n",
       "      <td>1614247345-25092</td>\n",
       "      <td>https://www.amazon.com/s?k=Portable+Bluetooth+...</td>\n",
       "      <td>JBL FLIP 4 - Waterproof Portable Bluetooth Spe...</td>\n",
       "      <td>https://www.amazon.com/JBL-Bluetooth-Portable-...</td>\n",
       "      <td>See all reviews</td>\n",
       "      <td>https://www.amazon.com/JBL-Bluetooth-Portable-...</td>\n",
       "      <td>Jorge Vallejo</td>\n",
       "      <td>5.0 out of 5 stars</td>\n",
       "      <td>Amazing portable speaker 5 stars</td>\n",
       "      <td>Reviewed in the United States on April 18, 2020</td>\n",
       "      <td>I like everything about this speaker. the bass...</td>\n",
       "      <td>NaN</td>\n",
       "    </tr>\n",
       "  </tbody>\n",
       "</table>\n",
       "</div>"
      ],
      "text/plain": [
       "  web-scraper-order                              web-scraper-start-url  \\\n",
       "0  1614247345-25092  https://www.amazon.com/s?k=Portable+Bluetooth+...   \n",
       "\n",
       "                                        product_page  \\\n",
       "0  JBL FLIP 4 - Waterproof Portable Bluetooth Spe...   \n",
       "\n",
       "                                   product_page-href   see_all_review  \\\n",
       "0  https://www.amazon.com/JBL-Bluetooth-Portable-...  See all reviews   \n",
       "\n",
       "                                 see_all_review-href review_reviewer  \\\n",
       "0  https://www.amazon.com/JBL-Bluetooth-Portable-...   Jorge Vallejo   \n",
       "\n",
       "        review_rating                      review_title  \\\n",
       "0  5.0 out of 5 stars  Amazing portable speaker 5 stars   \n",
       "\n",
       "                            review_locationAndDate  \\\n",
       "0  Reviewed in the United States on April 18, 2020   \n",
       "\n",
       "                                      review_content review_peopleFoundHelpful  \n",
       "0  I like everything about this speaker. the bass...                       NaN  "
      ]
     },
     "execution_count": 11,
     "metadata": {},
     "output_type": "execute_result"
    }
   ],
   "source": [
    "print(rv_all.shape)\n",
    "rv_all.head(1)"
   ]
  },
  {
   "cell_type": "code",
   "execution_count": 12,
   "metadata": {},
   "outputs": [],
   "source": [
    "rv_all.to_csv('review_raw.csv')"
   ]
  },
  {
   "cell_type": "markdown",
   "metadata": {},
   "source": [
    "# Pre Data Cleaning"
   ]
  },
  {
   "cell_type": "code",
   "execution_count": 13,
   "metadata": {},
   "outputs": [
    {
     "data": {
      "text/plain": [
       "(232740, 12)"
      ]
     },
     "execution_count": 13,
     "metadata": {},
     "output_type": "execute_result"
    }
   ],
   "source": [
    "# Drop duplicate\n",
    "rv_all_1 = rv_all.drop_duplicates(subset=['review_reviewer', 'review_rating',\n",
    "                                         'review_title', 'review_locationAndDate',\n",
    "                                         'review_content'] )\n",
    "rv_all_1.shape"
   ]
  },
  {
   "cell_type": "code",
   "execution_count": 14,
   "metadata": {},
   "outputs": [],
   "source": [
    "# Drop useless columns\n",
    "rv_all_2 = rv_all_1[['product_page', 'review_rating', 'review_content']]"
   ]
  },
  {
   "cell_type": "code",
   "execution_count": 15,
   "metadata": {},
   "outputs": [
    {
     "data": {
      "text/plain": [
       "(232693, 3)"
      ]
     },
     "execution_count": 15,
     "metadata": {},
     "output_type": "execute_result"
    }
   ],
   "source": [
    "# Drop nan\n",
    "rv_all_2 = rv_all_2.dropna()\n",
    "rv_all_2.shape"
   ]
  },
  {
   "cell_type": "code",
   "execution_count": 16,
   "metadata": {},
   "outputs": [],
   "source": [
    "# Save file\n",
    "rv_all_2.to_csv('review_scraper_all.csv')"
   ]
  },
  {
   "cell_type": "code",
   "execution_count": null,
   "metadata": {},
   "outputs": [],
   "source": []
  }
 ],
 "metadata": {
  "kernelspec": {
   "display_name": "Python 3",
   "language": "python",
   "name": "python3"
  },
  "language_info": {
   "codemirror_mode": {
    "name": "ipython",
    "version": 3
   },
   "file_extension": ".py",
   "mimetype": "text/x-python",
   "name": "python",
   "nbconvert_exporter": "python",
   "pygments_lexer": "ipython3",
   "version": "3.8.5"
  }
 },
 "nbformat": 4,
 "nbformat_minor": 4
}
