{
 "cells": [
  {
   "cell_type": "code",
   "execution_count": 1,
   "metadata": {},
   "outputs": [
    {
     "name": "stdout",
     "output_type": "stream",
     "text": [
      "Done\n"
     ]
    }
   ],
   "source": [
    "import re\n",
    "import matplotlib.pyplot as plt\n",
    "import string\n",
    "from nltk.corpus import stopwords\n",
    "import nltk\n",
    "from nltk.corpus import wordnet\n",
    "from nltk.stem import WordNetLemmatizer\n",
    "from nltk.tokenize.treebank import TreebankWordDetokenizer\n",
    "from collections import Counter\n",
    "from wordcloud import WordCloud\n",
    "from nltk.corpus import stopwords\n",
    "import nltk\n",
    "from gensim.utils import simple_preprocess\n",
    "from nltk.corpus import stopwords\n",
    "import gensim\n",
    "from sklearn.model_selection import train_test_split\n",
    "import spacy\n",
    "import pickle\n",
    "import warnings\n",
    "warnings.filterwarnings('ignore')\n",
    "import seaborn as sns\n",
    "from sklearn.metrics import confusion_matrix\n",
    "import matplotlib.pyplot as plt \n",
    "import tensorflow as tf\n",
    "import keras\n",
    "import numpy as np\n",
    "import pandas as pd\n",
    "\n",
    "from nltk.tokenize import sent_tokenize, word_tokenize\n",
    "from nltk.stem.porter import PorterStemmer\n",
    "st = PorterStemmer()\n",
    "\n",
    "print('Done')"
   ]
  },
  {
   "cell_type": "code",
   "execution_count": 2,
   "metadata": {},
   "outputs": [
    {
     "data": {
      "text/html": [
       "<div>\n",
       "<style scoped>\n",
       "    .dataframe tbody tr th:only-of-type {\n",
       "        vertical-align: middle;\n",
       "    }\n",
       "\n",
       "    .dataframe tbody tr th {\n",
       "        vertical-align: top;\n",
       "    }\n",
       "\n",
       "    .dataframe thead th {\n",
       "        text-align: right;\n",
       "    }\n",
       "</style>\n",
       "<table border=\"1\" class=\"dataframe\">\n",
       "  <thead>\n",
       "    <tr style=\"text-align: right;\">\n",
       "      <th></th>\n",
       "      <th>Unnamed: 0</th>\n",
       "      <th>cluster</th>\n",
       "      <th>product_name</th>\n",
       "      <th>price</th>\n",
       "      <th>rating</th>\n",
       "      <th>content</th>\n",
       "    </tr>\n",
       "  </thead>\n",
       "  <tbody>\n",
       "    <tr>\n",
       "      <th>0</th>\n",
       "      <td>99738</td>\n",
       "      <td>3</td>\n",
       "      <td>ZOEA Portable Bluetooth Speaker Mount for Golf...</td>\n",
       "      <td>7.99</td>\n",
       "      <td>5</td>\n",
       "      <td>When ordering I was unsure if the holder would...</td>\n",
       "    </tr>\n",
       "    <tr>\n",
       "      <th>1</th>\n",
       "      <td>99739</td>\n",
       "      <td>3</td>\n",
       "      <td>ZOEA Portable Bluetooth Speaker Mount for Golf...</td>\n",
       "      <td>7.99</td>\n",
       "      <td>1</td>\n",
       "      <td>Miss leading add it's not useful\\nfor anything</td>\n",
       "    </tr>\n",
       "    <tr>\n",
       "      <th>2</th>\n",
       "      <td>99740</td>\n",
       "      <td>3</td>\n",
       "      <td>ZOEA Portable Bluetooth Speaker Mount for Golf...</td>\n",
       "      <td>7.99</td>\n",
       "      <td>5</td>\n",
       "      <td>Very adaptable to all different location mounts.</td>\n",
       "    </tr>\n",
       "  </tbody>\n",
       "</table>\n",
       "</div>"
      ],
      "text/plain": [
       "   Unnamed: 0  cluster                                       product_name  \\\n",
       "0       99738        3  ZOEA Portable Bluetooth Speaker Mount for Golf...   \n",
       "1       99739        3  ZOEA Portable Bluetooth Speaker Mount for Golf...   \n",
       "2       99740        3  ZOEA Portable Bluetooth Speaker Mount for Golf...   \n",
       "\n",
       "   price  rating                                            content  \n",
       "0   7.99       5  When ordering I was unsure if the holder would...  \n",
       "1   7.99       1     Miss leading add it's not useful\\nfor anything  \n",
       "2   7.99       5   Very adaptable to all different location mounts.  "
      ]
     },
     "execution_count": 2,
     "metadata": {},
     "output_type": "execute_result"
    }
   ],
   "source": [
    "rv = pd.read_csv('product_reviews.csv')\n",
    "rv.head(3)"
   ]
  },
  {
   "cell_type": "markdown",
   "metadata": {},
   "source": [
    "# Break each review into sentences"
   ]
  },
  {
   "cell_type": "code",
   "execution_count": 3,
   "metadata": {},
   "outputs": [],
   "source": [
    "# Break review into sentences\n",
    "from nltk.tokenize import sent_tokenize\n",
    "st = []\n",
    "for sentence in rv.content:\n",
    "    sent_tokenize(sentence)\n",
    "    st.append(sent_tokenize(sentence))"
   ]
  },
  {
   "cell_type": "code",
   "execution_count": 4,
   "metadata": {},
   "outputs": [
    {
     "data": {
      "text/html": [
       "<div>\n",
       "<style scoped>\n",
       "    .dataframe tbody tr th:only-of-type {\n",
       "        vertical-align: middle;\n",
       "    }\n",
       "\n",
       "    .dataframe tbody tr th {\n",
       "        vertical-align: top;\n",
       "    }\n",
       "\n",
       "    .dataframe thead th {\n",
       "        text-align: right;\n",
       "    }\n",
       "</style>\n",
       "<table border=\"1\" class=\"dataframe\">\n",
       "  <thead>\n",
       "    <tr style=\"text-align: right;\">\n",
       "      <th></th>\n",
       "      <th>Unnamed: 0</th>\n",
       "      <th>cluster</th>\n",
       "      <th>product_name</th>\n",
       "      <th>price</th>\n",
       "      <th>rating</th>\n",
       "      <th>content</th>\n",
       "      <th>raw_sentence</th>\n",
       "    </tr>\n",
       "  </thead>\n",
       "  <tbody>\n",
       "    <tr>\n",
       "      <th>0</th>\n",
       "      <td>99738</td>\n",
       "      <td>3</td>\n",
       "      <td>ZOEA Portable Bluetooth Speaker Mount for Golf...</td>\n",
       "      <td>7.99</td>\n",
       "      <td>5</td>\n",
       "      <td>When ordering I was unsure if the holder would...</td>\n",
       "      <td>[When ordering I was unsure if the holder woul...</td>\n",
       "    </tr>\n",
       "    <tr>\n",
       "      <th>1</th>\n",
       "      <td>99739</td>\n",
       "      <td>3</td>\n",
       "      <td>ZOEA Portable Bluetooth Speaker Mount for Golf...</td>\n",
       "      <td>7.99</td>\n",
       "      <td>1</td>\n",
       "      <td>Miss leading add it's not useful\\nfor anything</td>\n",
       "      <td>[Miss leading add it's not useful\\nfor anything]</td>\n",
       "    </tr>\n",
       "    <tr>\n",
       "      <th>2</th>\n",
       "      <td>99740</td>\n",
       "      <td>3</td>\n",
       "      <td>ZOEA Portable Bluetooth Speaker Mount for Golf...</td>\n",
       "      <td>7.99</td>\n",
       "      <td>5</td>\n",
       "      <td>Very adaptable to all different location mounts.</td>\n",
       "      <td>[Very adaptable to all different location moun...</td>\n",
       "    </tr>\n",
       "  </tbody>\n",
       "</table>\n",
       "</div>"
      ],
      "text/plain": [
       "   Unnamed: 0  cluster                                       product_name  \\\n",
       "0       99738        3  ZOEA Portable Bluetooth Speaker Mount for Golf...   \n",
       "1       99739        3  ZOEA Portable Bluetooth Speaker Mount for Golf...   \n",
       "2       99740        3  ZOEA Portable Bluetooth Speaker Mount for Golf...   \n",
       "\n",
       "   price  rating                                            content  \\\n",
       "0   7.99       5  When ordering I was unsure if the holder would...   \n",
       "1   7.99       1     Miss leading add it's not useful\\nfor anything   \n",
       "2   7.99       5   Very adaptable to all different location mounts.   \n",
       "\n",
       "                                        raw_sentence  \n",
       "0  [When ordering I was unsure if the holder woul...  \n",
       "1   [Miss leading add it's not useful\\nfor anything]  \n",
       "2  [Very adaptable to all different location moun...  "
      ]
     },
     "execution_count": 4,
     "metadata": {},
     "output_type": "execute_result"
    }
   ],
   "source": [
    "rv['raw_sentence'] = st\n",
    "rv.head(3)"
   ]
  },
  {
   "cell_type": "code",
   "execution_count": 5,
   "metadata": {},
   "outputs": [],
   "source": [
    "# Save to file for SA model\n",
    "rv.to_csv('product_reviews(SA model).csv')"
   ]
  },
  {
   "cell_type": "code",
   "execution_count": 6,
   "metadata": {},
   "outputs": [
    {
     "data": {
      "text/html": [
       "<div>\n",
       "<style scoped>\n",
       "    .dataframe tbody tr th:only-of-type {\n",
       "        vertical-align: middle;\n",
       "    }\n",
       "\n",
       "    .dataframe tbody tr th {\n",
       "        vertical-align: top;\n",
       "    }\n",
       "\n",
       "    .dataframe thead th {\n",
       "        text-align: right;\n",
       "    }\n",
       "</style>\n",
       "<table border=\"1\" class=\"dataframe\">\n",
       "  <thead>\n",
       "    <tr style=\"text-align: right;\">\n",
       "      <th></th>\n",
       "      <th>cluster</th>\n",
       "      <th>product_name</th>\n",
       "      <th>price</th>\n",
       "      <th>raw_sentence</th>\n",
       "    </tr>\n",
       "  </thead>\n",
       "  <tbody>\n",
       "    <tr>\n",
       "      <th>0</th>\n",
       "      <td>3</td>\n",
       "      <td>ZOEA Portable Bluetooth Speaker Mount for Golf...</td>\n",
       "      <td>7.99</td>\n",
       "      <td>[When ordering I was unsure if the holder woul...</td>\n",
       "    </tr>\n",
       "    <tr>\n",
       "      <th>1</th>\n",
       "      <td>3</td>\n",
       "      <td>ZOEA Portable Bluetooth Speaker Mount for Golf...</td>\n",
       "      <td>7.99</td>\n",
       "      <td>[Miss leading add it's not useful\\nfor anything]</td>\n",
       "    </tr>\n",
       "    <tr>\n",
       "      <th>2</th>\n",
       "      <td>3</td>\n",
       "      <td>ZOEA Portable Bluetooth Speaker Mount for Golf...</td>\n",
       "      <td>7.99</td>\n",
       "      <td>[Very adaptable to all different location moun...</td>\n",
       "    </tr>\n",
       "  </tbody>\n",
       "</table>\n",
       "</div>"
      ],
      "text/plain": [
       "   cluster                                       product_name  price  \\\n",
       "0        3  ZOEA Portable Bluetooth Speaker Mount for Golf...   7.99   \n",
       "1        3  ZOEA Portable Bluetooth Speaker Mount for Golf...   7.99   \n",
       "2        3  ZOEA Portable Bluetooth Speaker Mount for Golf...   7.99   \n",
       "\n",
       "                                        raw_sentence  \n",
       "0  [When ordering I was unsure if the holder woul...  \n",
       "1   [Miss leading add it's not useful\\nfor anything]  \n",
       "2  [Very adaptable to all different location moun...  "
      ]
     },
     "execution_count": 6,
     "metadata": {},
     "output_type": "execute_result"
    }
   ],
   "source": [
    "rv1 = rv[['cluster', 'product_name', 'price', 'raw_sentence']]\n",
    "rv1.head(3)"
   ]
  },
  {
   "cell_type": "code",
   "execution_count": 7,
   "metadata": {},
   "outputs": [],
   "source": [
    "def explode(df, lst_cols, fill_value='', preserve_index=False):\n",
    "    # make sure `lst_cols` is list-alike\n",
    "    if (lst_cols is not None\n",
    "        and len(lst_cols) > 0):\n",
    "        lst_cols = [lst_cols]\n",
    "    # all columns except `lst_cols`\n",
    "    idx_cols = df.columns.difference(lst_cols)\n",
    "    # calculate lengths of lists\n",
    "    lens = df[lst_cols[0]].str.len()\n",
    "    # preserve original index values    \n",
    "    idx = np.repeat(df.index.values, lens)\n",
    "    # create \"exploded\" DF\n",
    "    res = (pd.DataFrame({\n",
    "                col:np.repeat(df[col].values, lens)\n",
    "                for col in idx_cols},\n",
    "                index=idx)\n",
    "             .assign(**{col:np.concatenate(df.loc[lens>0, col].values)\n",
    "                            for col in lst_cols}))\n",
    "    # append those rows that have empty lists\n",
    "    if (lens == 0).any():\n",
    "        # at least one list in cells is empty\n",
    "        res = (res.append(df.loc[lens==0, idx_cols], sort=False)\n",
    "                  .fillna(fill_value))\n",
    "    # revert the original index order\n",
    "    res = res.sort_index()\n",
    "    # reset index if requested\n",
    "    if not preserve_index:        \n",
    "        res = res.reset_index(drop=True)\n",
    "    return res"
   ]
  },
  {
   "cell_type": "code",
   "execution_count": 8,
   "metadata": {},
   "outputs": [],
   "source": [
    "# Create rows for each sentence\n",
    "rv2 = explode(rv1, 'raw_sentence', fill_value='')"
   ]
  },
  {
   "cell_type": "code",
   "execution_count": 9,
   "metadata": {},
   "outputs": [
    {
     "name": "stdout",
     "output_type": "stream",
     "text": [
      "['When ordering I was unsure if the holder would be strong enough to secure my JBL speaker onto the sand rail, BUT it DID!!!', 'Works GREAT and would highly recommend!', '!']\n"
     ]
    },
    {
     "data": {
      "text/html": [
       "<div>\n",
       "<style scoped>\n",
       "    .dataframe tbody tr th:only-of-type {\n",
       "        vertical-align: middle;\n",
       "    }\n",
       "\n",
       "    .dataframe tbody tr th {\n",
       "        vertical-align: top;\n",
       "    }\n",
       "\n",
       "    .dataframe thead th {\n",
       "        text-align: right;\n",
       "    }\n",
       "</style>\n",
       "<table border=\"1\" class=\"dataframe\">\n",
       "  <thead>\n",
       "    <tr style=\"text-align: right;\">\n",
       "      <th></th>\n",
       "      <th>cluster</th>\n",
       "      <th>price</th>\n",
       "      <th>product_name</th>\n",
       "      <th>raw_sentence</th>\n",
       "    </tr>\n",
       "  </thead>\n",
       "  <tbody>\n",
       "    <tr>\n",
       "      <th>0</th>\n",
       "      <td>3</td>\n",
       "      <td>7.99</td>\n",
       "      <td>ZOEA Portable Bluetooth Speaker Mount for Golf...</td>\n",
       "      <td>When ordering I was unsure if the holder would...</td>\n",
       "    </tr>\n",
       "    <tr>\n",
       "      <th>1</th>\n",
       "      <td>3</td>\n",
       "      <td>7.99</td>\n",
       "      <td>ZOEA Portable Bluetooth Speaker Mount for Golf...</td>\n",
       "      <td>Works GREAT and would highly recommend!</td>\n",
       "    </tr>\n",
       "  </tbody>\n",
       "</table>\n",
       "</div>"
      ],
      "text/plain": [
       "   cluster  price                                       product_name  \\\n",
       "0        3   7.99  ZOEA Portable Bluetooth Speaker Mount for Golf...   \n",
       "1        3   7.99  ZOEA Portable Bluetooth Speaker Mount for Golf...   \n",
       "\n",
       "                                        raw_sentence  \n",
       "0  When ordering I was unsure if the holder would...  \n",
       "1            Works GREAT and would highly recommend!  "
      ]
     },
     "execution_count": 9,
     "metadata": {},
     "output_type": "execute_result"
    }
   ],
   "source": [
    "# Compare with original data frame\n",
    "print(rv1['raw_sentence'][0])\n",
    "rv2.head(2)"
   ]
  },
  {
   "cell_type": "code",
   "execution_count": 10,
   "metadata": {},
   "outputs": [
    {
     "data": {
      "text/html": [
       "<div>\n",
       "<style scoped>\n",
       "    .dataframe tbody tr th:only-of-type {\n",
       "        vertical-align: middle;\n",
       "    }\n",
       "\n",
       "    .dataframe tbody tr th {\n",
       "        vertical-align: top;\n",
       "    }\n",
       "\n",
       "    .dataframe thead th {\n",
       "        text-align: right;\n",
       "    }\n",
       "</style>\n",
       "<table border=\"1\" class=\"dataframe\">\n",
       "  <thead>\n",
       "    <tr style=\"text-align: right;\">\n",
       "      <th></th>\n",
       "      <th>cluster</th>\n",
       "      <th>price</th>\n",
       "      <th>product_name</th>\n",
       "      <th>sentence</th>\n",
       "    </tr>\n",
       "  </thead>\n",
       "  <tbody>\n",
       "    <tr>\n",
       "      <th>0</th>\n",
       "      <td>3</td>\n",
       "      <td>7.99</td>\n",
       "      <td>ZOEA Portable Bluetooth Speaker Mount for Golf...</td>\n",
       "      <td>when ordering i was unsure if the holder would...</td>\n",
       "    </tr>\n",
       "    <tr>\n",
       "      <th>1</th>\n",
       "      <td>3</td>\n",
       "      <td>7.99</td>\n",
       "      <td>ZOEA Portable Bluetooth Speaker Mount for Golf...</td>\n",
       "      <td>works great and would highly recommend!</td>\n",
       "    </tr>\n",
       "  </tbody>\n",
       "</table>\n",
       "</div>"
      ],
      "text/plain": [
       "   cluster  price                                       product_name  \\\n",
       "0        3   7.99  ZOEA Portable Bluetooth Speaker Mount for Golf...   \n",
       "1        3   7.99  ZOEA Portable Bluetooth Speaker Mount for Golf...   \n",
       "\n",
       "                                            sentence  \n",
       "0  when ordering i was unsure if the holder would...  \n",
       "1            works great and would highly recommend!  "
      ]
     },
     "execution_count": 10,
     "metadata": {},
     "output_type": "execute_result"
    }
   ],
   "source": [
    "# Convert sentences into lowercase\n",
    "rv2['sentence'] = [x.lower() for x in rv2.raw_sentence]\n",
    "rv3 = rv2.drop(columns='raw_sentence')\n",
    "rv3.head(2)"
   ]
  },
  {
   "cell_type": "markdown",
   "metadata": {},
   "source": [
    "# POS tagging"
   ]
  },
  {
   "cell_type": "code",
   "execution_count": 11,
   "metadata": {},
   "outputs": [],
   "source": [
    "# POS tagging\n",
    "pos = []\n",
    "for sentence in rv3.sentence:\n",
    "    w = word_tokenize(sentence)\n",
    "    pos.append(nltk.pos_tag(w))"
   ]
  },
  {
   "cell_type": "code",
   "execution_count": 12,
   "metadata": {},
   "outputs": [
    {
     "data": {
      "text/plain": [
       "[[('when', 'WRB'),\n",
       "  ('ordering', 'VBG'),\n",
       "  ('i', 'NN'),\n",
       "  ('was', 'VBD'),\n",
       "  ('unsure', 'JJ'),\n",
       "  ('if', 'IN'),\n",
       "  ('the', 'DT'),\n",
       "  ('holder', 'NN'),\n",
       "  ('would', 'MD'),\n",
       "  ('be', 'VB'),\n",
       "  ('strong', 'JJ'),\n",
       "  ('enough', 'RB'),\n",
       "  ('to', 'TO'),\n",
       "  ('secure', 'VB'),\n",
       "  ('my', 'PRP$'),\n",
       "  ('jbl', 'NN'),\n",
       "  ('speaker', 'NN'),\n",
       "  ('onto', 'IN'),\n",
       "  ('the', 'DT'),\n",
       "  ('sand', 'NN'),\n",
       "  ('rail', 'NN'),\n",
       "  (',', ','),\n",
       "  ('but', 'CC'),\n",
       "  ('it', 'PRP'),\n",
       "  ('did', 'VBD'),\n",
       "  ('!', '.'),\n",
       "  ('!', '.'),\n",
       "  ('!', '.')],\n",
       " [('works', 'NNS'),\n",
       "  ('great', 'JJ'),\n",
       "  ('and', 'CC'),\n",
       "  ('would', 'MD'),\n",
       "  ('highly', 'RB'),\n",
       "  ('recommend', 'VB'),\n",
       "  ('!', '.')]]"
      ]
     },
     "execution_count": 12,
     "metadata": {},
     "output_type": "execute_result"
    }
   ],
   "source": [
    "pos[:2]"
   ]
  },
  {
   "cell_type": "markdown",
   "metadata": {},
   "source": [
    "# Pairing"
   ]
  },
  {
   "cell_type": "code",
   "execution_count": 13,
   "metadata": {},
   "outputs": [],
   "source": [
    "# Create lists for features and sentiments\n",
    "ft = [[j[0] for j in i if (j[-1]==\"NN\" or j[-1]==\"NNS\" or j[-1]==\"NNP\" or j[-1]==\"NNPS\")] for i in pos]\n",
    "st = [[j[0] for j in i if (j[-1]==\"JJ\" or j[-1]==\"JJR\" or j[-1]==\"JJS\")] for i in pos]"
   ]
  },
  {
   "cell_type": "code",
   "execution_count": 14,
   "metadata": {},
   "outputs": [],
   "source": [
    "# Lemmatize the lists\n",
    "\n",
    "ft1 = []\n",
    "for k in range(len(ft)):\n",
    "    words=ft[k]\n",
    "    WNlemma = nltk.WordNetLemmatizer()\n",
    "    refined_list = [WNlemma.lemmatize(t, pos='n') for t in words]\n",
    "    ft1.append(refined_list)\n",
    "    \n",
    "st1 = []\n",
    "for k in range(len(st)):\n",
    "    words=st[k]\n",
    "    WNlemma = nltk.WordNetLemmatizer()\n",
    "    refined_list = [WNlemma.lemmatize(t, pos='a') for t in words]\n",
    "    st1.append(refined_list)"
   ]
  },
  {
   "cell_type": "code",
   "execution_count": 15,
   "metadata": {},
   "outputs": [
    {
     "name": "stdout",
     "output_type": "stream",
     "text": [
      "[['i', 'holder', 'jbl', 'speaker', 'sand', 'rail'], ['works'], [], ['miss', 'anything'], ['location', 'mounts'], ['i', 'speaker', 'strap', 'holder', 'speaker'], ['product', 'service'], ['i', 'size', 'product'], ['crisp', 'quality', 'sound'], ['size', 'bass', 'quality']]\n",
      "[['i', 'holder', 'jbl', 'speaker', 'sand', 'rail'], ['work'], [], ['miss', 'anything'], ['location', 'mount'], ['i', 'speaker', 'strap', 'holder', 'speaker'], ['product', 'service'], ['i', 'size', 'product'], ['crisp', 'quality', 'sound'], ['size', 'bass', 'quality']]\n"
     ]
    }
   ],
   "source": [
    "print(ft[:10])\n",
    "print(ft1[:10])"
   ]
  },
  {
   "cell_type": "code",
   "execution_count": 16,
   "metadata": {},
   "outputs": [
    {
     "name": "stdout",
     "output_type": "stream",
     "text": [
      "[['unsure', 'strong'], ['great'], [], ['useful'], ['adaptable', 'different'], ['little'], ['great', 'great'], ['sure'], ['loud', 'high'], ['good', 'loud']]\n",
      "[['unsure', 'strong'], ['great'], [], ['useful'], ['adaptable', 'different'], ['little'], ['great', 'great'], ['sure'], ['loud', 'high'], ['good', 'loud']]\n"
     ]
    }
   ],
   "source": [
    "print(st[:10])\n",
    "print(st1[:10])"
   ]
  },
  {
   "cell_type": "code",
   "execution_count": 17,
   "metadata": {},
   "outputs": [
    {
     "name": "stdout",
     "output_type": "stream",
     "text": [
      "369749\n"
     ]
    },
    {
     "data": {
      "text/plain": [
       "[['unsure/i',\n",
       "  'unsure/holder',\n",
       "  'unsure/jbl',\n",
       "  'unsure/speaker',\n",
       "  'unsure/sand',\n",
       "  'unsure/rail',\n",
       "  'strong/i',\n",
       "  'strong/holder',\n",
       "  'strong/jbl',\n",
       "  'strong/speaker',\n",
       "  'strong/sand',\n",
       "  'strong/rail'],\n",
       " ['great/work'],\n",
       " [],\n",
       " ['useful/miss', 'useful/anything'],\n",
       " ['adaptable/location',\n",
       "  'adaptable/mount',\n",
       "  'different/location',\n",
       "  'different/mount']]"
      ]
     },
     "execution_count": 17,
     "metadata": {},
     "output_type": "execute_result"
    }
   ],
   "source": [
    "# Create feature-sentiment pairs\n",
    "\n",
    "pairs = []\n",
    "\n",
    "for k in range(len(st1)):\n",
    "    list = [i+\"/\"+str(j) for i in st1[k] for j in ft1[k]]\n",
    "    pairs.append(list)\n",
    "\n",
    "print(len(pairs))\n",
    "pairs[:5]"
   ]
  },
  {
   "cell_type": "markdown",
   "metadata": {},
   "source": [
    "# Add FSP to the data frame"
   ]
  },
  {
   "cell_type": "code",
   "execution_count": 18,
   "metadata": {},
   "outputs": [
    {
     "data": {
      "text/html": [
       "<div>\n",
       "<style scoped>\n",
       "    .dataframe tbody tr th:only-of-type {\n",
       "        vertical-align: middle;\n",
       "    }\n",
       "\n",
       "    .dataframe tbody tr th {\n",
       "        vertical-align: top;\n",
       "    }\n",
       "\n",
       "    .dataframe thead th {\n",
       "        text-align: right;\n",
       "    }\n",
       "</style>\n",
       "<table border=\"1\" class=\"dataframe\">\n",
       "  <thead>\n",
       "    <tr style=\"text-align: right;\">\n",
       "      <th></th>\n",
       "      <th>cluster</th>\n",
       "      <th>price</th>\n",
       "      <th>product_name</th>\n",
       "      <th>sentence</th>\n",
       "      <th>FSP</th>\n",
       "    </tr>\n",
       "  </thead>\n",
       "  <tbody>\n",
       "    <tr>\n",
       "      <th>0</th>\n",
       "      <td>3</td>\n",
       "      <td>7.99</td>\n",
       "      <td>ZOEA Portable Bluetooth Speaker Mount for Golf...</td>\n",
       "      <td>when ordering i was unsure if the holder would...</td>\n",
       "      <td>[unsure/i, unsure/holder, unsure/jbl, unsure/s...</td>\n",
       "    </tr>\n",
       "    <tr>\n",
       "      <th>1</th>\n",
       "      <td>3</td>\n",
       "      <td>7.99</td>\n",
       "      <td>ZOEA Portable Bluetooth Speaker Mount for Golf...</td>\n",
       "      <td>works great and would highly recommend!</td>\n",
       "      <td>[great/work]</td>\n",
       "    </tr>\n",
       "    <tr>\n",
       "      <th>2</th>\n",
       "      <td>3</td>\n",
       "      <td>7.99</td>\n",
       "      <td>ZOEA Portable Bluetooth Speaker Mount for Golf...</td>\n",
       "      <td>!</td>\n",
       "      <td>[]</td>\n",
       "    </tr>\n",
       "  </tbody>\n",
       "</table>\n",
       "</div>"
      ],
      "text/plain": [
       "   cluster  price                                       product_name  \\\n",
       "0        3   7.99  ZOEA Portable Bluetooth Speaker Mount for Golf...   \n",
       "1        3   7.99  ZOEA Portable Bluetooth Speaker Mount for Golf...   \n",
       "2        3   7.99  ZOEA Portable Bluetooth Speaker Mount for Golf...   \n",
       "\n",
       "                                            sentence  \\\n",
       "0  when ordering i was unsure if the holder would...   \n",
       "1            works great and would highly recommend!   \n",
       "2                                                  !   \n",
       "\n",
       "                                                 FSP  \n",
       "0  [unsure/i, unsure/holder, unsure/jbl, unsure/s...  \n",
       "1                                       [great/work]  \n",
       "2                                                 []  "
      ]
     },
     "execution_count": 18,
     "metadata": {},
     "output_type": "execute_result"
    }
   ],
   "source": [
    "rv3['FSP'] = pairs\n",
    "rv3.head(3)"
   ]
  },
  {
   "cell_type": "code",
   "execution_count": 19,
   "metadata": {},
   "outputs": [],
   "source": [
    "# Drop rows without FSP\n",
    "rv4 = rv3[rv3['FSP'].map(lambda d: len(d)) > 0].reset_index(drop=True)"
   ]
  },
  {
   "cell_type": "code",
   "execution_count": 20,
   "metadata": {},
   "outputs": [
    {
     "data": {
      "text/html": [
       "<div>\n",
       "<style scoped>\n",
       "    .dataframe tbody tr th:only-of-type {\n",
       "        vertical-align: middle;\n",
       "    }\n",
       "\n",
       "    .dataframe tbody tr th {\n",
       "        vertical-align: top;\n",
       "    }\n",
       "\n",
       "    .dataframe thead th {\n",
       "        text-align: right;\n",
       "    }\n",
       "</style>\n",
       "<table border=\"1\" class=\"dataframe\">\n",
       "  <thead>\n",
       "    <tr style=\"text-align: right;\">\n",
       "      <th></th>\n",
       "      <th>cluster</th>\n",
       "      <th>price</th>\n",
       "      <th>product_name</th>\n",
       "      <th>sentence</th>\n",
       "      <th>FSP</th>\n",
       "    </tr>\n",
       "  </thead>\n",
       "  <tbody>\n",
       "    <tr>\n",
       "      <th>0</th>\n",
       "      <td>3</td>\n",
       "      <td>7.99</td>\n",
       "      <td>ZOEA Portable Bluetooth Speaker Mount for Golf...</td>\n",
       "      <td>when ordering i was unsure if the holder would...</td>\n",
       "      <td>[unsure/i, unsure/holder, unsure/jbl, unsure/s...</td>\n",
       "    </tr>\n",
       "    <tr>\n",
       "      <th>1</th>\n",
       "      <td>3</td>\n",
       "      <td>7.99</td>\n",
       "      <td>ZOEA Portable Bluetooth Speaker Mount for Golf...</td>\n",
       "      <td>works great and would highly recommend!</td>\n",
       "      <td>[great/work]</td>\n",
       "    </tr>\n",
       "    <tr>\n",
       "      <th>2</th>\n",
       "      <td>3</td>\n",
       "      <td>7.99</td>\n",
       "      <td>ZOEA Portable Bluetooth Speaker Mount for Golf...</td>\n",
       "      <td>miss leading add it's not useful\\nfor anything</td>\n",
       "      <td>[useful/miss, useful/anything]</td>\n",
       "    </tr>\n",
       "  </tbody>\n",
       "</table>\n",
       "</div>"
      ],
      "text/plain": [
       "   cluster  price                                       product_name  \\\n",
       "0        3   7.99  ZOEA Portable Bluetooth Speaker Mount for Golf...   \n",
       "1        3   7.99  ZOEA Portable Bluetooth Speaker Mount for Golf...   \n",
       "2        3   7.99  ZOEA Portable Bluetooth Speaker Mount for Golf...   \n",
       "\n",
       "                                            sentence  \\\n",
       "0  when ordering i was unsure if the holder would...   \n",
       "1            works great and would highly recommend!   \n",
       "2     miss leading add it's not useful\\nfor anything   \n",
       "\n",
       "                                                 FSP  \n",
       "0  [unsure/i, unsure/holder, unsure/jbl, unsure/s...  \n",
       "1                                       [great/work]  \n",
       "2                     [useful/miss, useful/anything]  "
      ]
     },
     "execution_count": 20,
     "metadata": {},
     "output_type": "execute_result"
    }
   ],
   "source": [
    "rv4.head(3)"
   ]
  },
  {
   "cell_type": "code",
   "execution_count": 21,
   "metadata": {},
   "outputs": [
    {
     "data": {
      "text/plain": [
       "2269443"
      ]
     },
     "execution_count": 21,
     "metadata": {},
     "output_type": "execute_result"
    }
   ],
   "source": [
    "# The sum of FSP\n",
    "rv4.FSP.str.len().sum()"
   ]
  },
  {
   "cell_type": "code",
   "execution_count": 22,
   "metadata": {},
   "outputs": [],
   "source": [
    "# Create rows for each FSP\n",
    "rv5 = explode(rv4, 'FSP', fill_value='')"
   ]
  },
  {
   "cell_type": "code",
   "execution_count": 23,
   "metadata": {},
   "outputs": [
    {
     "name": "stdout",
     "output_type": "stream",
     "text": [
      "2269443\n"
     ]
    },
    {
     "data": {
      "text/html": [
       "<div>\n",
       "<style scoped>\n",
       "    .dataframe tbody tr th:only-of-type {\n",
       "        vertical-align: middle;\n",
       "    }\n",
       "\n",
       "    .dataframe tbody tr th {\n",
       "        vertical-align: top;\n",
       "    }\n",
       "\n",
       "    .dataframe thead th {\n",
       "        text-align: right;\n",
       "    }\n",
       "</style>\n",
       "<table border=\"1\" class=\"dataframe\">\n",
       "  <thead>\n",
       "    <tr style=\"text-align: right;\">\n",
       "      <th></th>\n",
       "      <th>cluster</th>\n",
       "      <th>price</th>\n",
       "      <th>product_name</th>\n",
       "      <th>sentence</th>\n",
       "      <th>FSP</th>\n",
       "    </tr>\n",
       "  </thead>\n",
       "  <tbody>\n",
       "    <tr>\n",
       "      <th>0</th>\n",
       "      <td>3</td>\n",
       "      <td>7.99</td>\n",
       "      <td>ZOEA Portable Bluetooth Speaker Mount for Golf...</td>\n",
       "      <td>when ordering i was unsure if the holder would...</td>\n",
       "      <td>unsure/i</td>\n",
       "    </tr>\n",
       "    <tr>\n",
       "      <th>1</th>\n",
       "      <td>3</td>\n",
       "      <td>7.99</td>\n",
       "      <td>ZOEA Portable Bluetooth Speaker Mount for Golf...</td>\n",
       "      <td>when ordering i was unsure if the holder would...</td>\n",
       "      <td>unsure/holder</td>\n",
       "    </tr>\n",
       "    <tr>\n",
       "      <th>2</th>\n",
       "      <td>3</td>\n",
       "      <td>7.99</td>\n",
       "      <td>ZOEA Portable Bluetooth Speaker Mount for Golf...</td>\n",
       "      <td>when ordering i was unsure if the holder would...</td>\n",
       "      <td>unsure/jbl</td>\n",
       "    </tr>\n",
       "  </tbody>\n",
       "</table>\n",
       "</div>"
      ],
      "text/plain": [
       "   cluster  price                                       product_name  \\\n",
       "0        3   7.99  ZOEA Portable Bluetooth Speaker Mount for Golf...   \n",
       "1        3   7.99  ZOEA Portable Bluetooth Speaker Mount for Golf...   \n",
       "2        3   7.99  ZOEA Portable Bluetooth Speaker Mount for Golf...   \n",
       "\n",
       "                                            sentence            FSP  \n",
       "0  when ordering i was unsure if the holder would...       unsure/i  \n",
       "1  when ordering i was unsure if the holder would...  unsure/holder  \n",
       "2  when ordering i was unsure if the holder would...     unsure/jbl  "
      ]
     },
     "execution_count": 23,
     "metadata": {},
     "output_type": "execute_result"
    }
   ],
   "source": [
    "print(rv5.shape[0])\n",
    "rv5.head(3)"
   ]
  },
  {
   "cell_type": "code",
   "execution_count": 24,
   "metadata": {},
   "outputs": [],
   "source": [
    "# Add columns for feature and sentiment\n",
    "sentiment = []\n",
    "feature = []\n",
    "\n",
    "for i in range(rv5.shape[0]):\n",
    "    x = rv5.FSP[i].split('/')[0]\n",
    "    sentiment.append(x)\n",
    "    \n",
    "for i in range(rv5.shape[0]):\n",
    "    x = rv5.FSP[i].split('/')[1]\n",
    "    feature.append(x)\n"
   ]
  },
  {
   "cell_type": "code",
   "execution_count": 25,
   "metadata": {},
   "outputs": [
    {
     "data": {
      "text/html": [
       "<div>\n",
       "<style scoped>\n",
       "    .dataframe tbody tr th:only-of-type {\n",
       "        vertical-align: middle;\n",
       "    }\n",
       "\n",
       "    .dataframe tbody tr th {\n",
       "        vertical-align: top;\n",
       "    }\n",
       "\n",
       "    .dataframe thead th {\n",
       "        text-align: right;\n",
       "    }\n",
       "</style>\n",
       "<table border=\"1\" class=\"dataframe\">\n",
       "  <thead>\n",
       "    <tr style=\"text-align: right;\">\n",
       "      <th></th>\n",
       "      <th>cluster</th>\n",
       "      <th>price</th>\n",
       "      <th>product_name</th>\n",
       "      <th>sentence</th>\n",
       "      <th>FSP</th>\n",
       "      <th>feature</th>\n",
       "      <th>sentiment</th>\n",
       "    </tr>\n",
       "  </thead>\n",
       "  <tbody>\n",
       "    <tr>\n",
       "      <th>0</th>\n",
       "      <td>3</td>\n",
       "      <td>7.99</td>\n",
       "      <td>ZOEA Portable Bluetooth Speaker Mount for Golf...</td>\n",
       "      <td>when ordering i was unsure if the holder would...</td>\n",
       "      <td>unsure/i</td>\n",
       "      <td>i</td>\n",
       "      <td>unsure</td>\n",
       "    </tr>\n",
       "    <tr>\n",
       "      <th>1</th>\n",
       "      <td>3</td>\n",
       "      <td>7.99</td>\n",
       "      <td>ZOEA Portable Bluetooth Speaker Mount for Golf...</td>\n",
       "      <td>when ordering i was unsure if the holder would...</td>\n",
       "      <td>unsure/holder</td>\n",
       "      <td>holder</td>\n",
       "      <td>unsure</td>\n",
       "    </tr>\n",
       "    <tr>\n",
       "      <th>2</th>\n",
       "      <td>3</td>\n",
       "      <td>7.99</td>\n",
       "      <td>ZOEA Portable Bluetooth Speaker Mount for Golf...</td>\n",
       "      <td>when ordering i was unsure if the holder would...</td>\n",
       "      <td>unsure/jbl</td>\n",
       "      <td>jbl</td>\n",
       "      <td>unsure</td>\n",
       "    </tr>\n",
       "  </tbody>\n",
       "</table>\n",
       "</div>"
      ],
      "text/plain": [
       "   cluster  price                                       product_name  \\\n",
       "0        3   7.99  ZOEA Portable Bluetooth Speaker Mount for Golf...   \n",
       "1        3   7.99  ZOEA Portable Bluetooth Speaker Mount for Golf...   \n",
       "2        3   7.99  ZOEA Portable Bluetooth Speaker Mount for Golf...   \n",
       "\n",
       "                                            sentence            FSP feature  \\\n",
       "0  when ordering i was unsure if the holder would...       unsure/i       i   \n",
       "1  when ordering i was unsure if the holder would...  unsure/holder  holder   \n",
       "2  when ordering i was unsure if the holder would...     unsure/jbl     jbl   \n",
       "\n",
       "  sentiment  \n",
       "0    unsure  \n",
       "1    unsure  \n",
       "2    unsure  "
      ]
     },
     "execution_count": 25,
     "metadata": {},
     "output_type": "execute_result"
    }
   ],
   "source": [
    "rv5['feature'] = feature\n",
    "rv5['sentiment'] = sentiment\n",
    "rv5.head(3)"
   ]
  },
  {
   "cell_type": "code",
   "execution_count": 26,
   "metadata": {},
   "outputs": [],
   "source": [
    "# Save file\n",
    "rv5.to_csv('FSP_without_st.csv')"
   ]
  },
  {
   "cell_type": "markdown",
   "metadata": {},
   "source": [
    "# Frequency of FSP (without cleaning)"
   ]
  },
  {
   "cell_type": "code",
   "execution_count": 27,
   "metadata": {},
   "outputs": [
    {
     "data": {
      "text/plain": [
       "[('great/sound', 13927),\n",
       " ('good/sound', 13281),\n",
       " ('i/i', 12321),\n",
       " ('great/speaker', 12202),\n",
       " ('good/speaker', 10146),\n",
       " ('good/i', 8121),\n",
       " ('good/quality', 7705),\n",
       " ('i/speaker', 7406),\n",
       " ('little/speaker', 7136),\n",
       " ('sound/quality', 6394)]"
      ]
     },
     "execution_count": 27,
     "metadata": {},
     "output_type": "execute_result"
    }
   ],
   "source": [
    "from collections import Counter\n",
    "\n",
    "Counter(rv5.FSP).most_common(10)"
   ]
  },
  {
   "cell_type": "code",
   "execution_count": 28,
   "metadata": {},
   "outputs": [
    {
     "data": {
      "text/plain": [
       "[('i', 163145),\n",
       " ('speaker', 154919),\n",
       " ('sound', 109745),\n",
       " ('quality', 58173),\n",
       " ('battery', 34970),\n",
       " ('volume', 33450),\n",
       " ('bass', 31639),\n",
       " ('price', 26068),\n",
       " ('music', 24760),\n",
       " ('product', 23364)]"
      ]
     },
     "execution_count": 28,
     "metadata": {},
     "output_type": "execute_result"
    }
   ],
   "source": [
    "Counter(rv5.feature).most_common(10)"
   ]
  },
  {
   "cell_type": "code",
   "execution_count": 29,
   "metadata": {},
   "outputs": [
    {
     "data": {
      "text/plain": [
       "[('good', 129075),\n",
       " ('great', 124408),\n",
       " ('i', 113411),\n",
       " ('little', 45263),\n",
       " ('loud', 43010),\n",
       " ('small', 38906),\n",
       " ('other', 37197),\n",
       " ('sound', 30441),\n",
       " ('easy', 30236),\n",
       " ('more', 25249)]"
      ]
     },
     "execution_count": 29,
     "metadata": {},
     "output_type": "execute_result"
    }
   ],
   "source": [
    "Counter(rv5.sentiment).most_common(10)"
   ]
  },
  {
   "cell_type": "code",
   "execution_count": null,
   "metadata": {},
   "outputs": [],
   "source": []
  }
 ],
 "metadata": {
  "kernelspec": {
   "display_name": "Python 3",
   "language": "python",
   "name": "python3"
  },
  "language_info": {
   "codemirror_mode": {
    "name": "ipython",
    "version": 3
   },
   "file_extension": ".py",
   "mimetype": "text/x-python",
   "name": "python",
   "nbconvert_exporter": "python",
   "pygments_lexer": "ipython3",
   "version": "3.8.5"
  }
 },
 "nbformat": 4,
 "nbformat_minor": 4
}
