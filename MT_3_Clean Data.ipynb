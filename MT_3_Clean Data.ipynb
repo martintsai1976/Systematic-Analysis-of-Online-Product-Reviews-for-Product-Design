{
 "cells": [
  {
   "cell_type": "code",
   "execution_count": 4,
   "metadata": {},
   "outputs": [],
   "source": [
    "import numpy as np\n",
    "import pandas as pd\n",
    "pd.options.mode.chained_assignment = None\n",
    "from matplotlib import pyplot as plt\n",
    "import cld3\n",
    "%matplotlib inline"
   ]
  },
  {
   "cell_type": "markdown",
   "metadata": {},
   "source": [
    "# Clean review data"
   ]
  },
  {
   "cell_type": "code",
   "execution_count": 2,
   "metadata": {},
   "outputs": [
    {
     "data": {
      "text/html": [
       "<div>\n",
       "<style scoped>\n",
       "    .dataframe tbody tr th:only-of-type {\n",
       "        vertical-align: middle;\n",
       "    }\n",
       "\n",
       "    .dataframe tbody tr th {\n",
       "        vertical-align: top;\n",
       "    }\n",
       "\n",
       "    .dataframe thead th {\n",
       "        text-align: right;\n",
       "    }\n",
       "</style>\n",
       "<table border=\"1\" class=\"dataframe\">\n",
       "  <thead>\n",
       "    <tr style=\"text-align: right;\">\n",
       "      <th></th>\n",
       "      <th>Unnamed: 0</th>\n",
       "      <th>product_page</th>\n",
       "      <th>review_rating</th>\n",
       "      <th>review_content</th>\n",
       "    </tr>\n",
       "  </thead>\n",
       "  <tbody>\n",
       "    <tr>\n",
       "      <th>0</th>\n",
       "      <td>0</td>\n",
       "      <td>JBL FLIP 4 - Waterproof Portable Bluetooth Spe...</td>\n",
       "      <td>5.0 out of 5 stars</td>\n",
       "      <td>I like everything about this speaker. the bass...</td>\n",
       "    </tr>\n",
       "    <tr>\n",
       "      <th>1</th>\n",
       "      <td>1</td>\n",
       "      <td>JBL FLIP 4 - Waterproof Portable Bluetooth Spe...</td>\n",
       "      <td>1.0 out of 5 stars</td>\n",
       "      <td>Se rompió la primera semana y no tuvo ninfun u...</td>\n",
       "    </tr>\n",
       "    <tr>\n",
       "      <th>2</th>\n",
       "      <td>2</td>\n",
       "      <td>Sonos Move - Battery-powered Smart Speaker, Wi...</td>\n",
       "      <td>5.0 out of 5 stars</td>\n",
       "      <td>Received this as a gift and I love it! Easy to...</td>\n",
       "    </tr>\n",
       "  </tbody>\n",
       "</table>\n",
       "</div>"
      ],
      "text/plain": [
       "   Unnamed: 0                                       product_page  \\\n",
       "0           0  JBL FLIP 4 - Waterproof Portable Bluetooth Spe...   \n",
       "1           1  JBL FLIP 4 - Waterproof Portable Bluetooth Spe...   \n",
       "2           2  Sonos Move - Battery-powered Smart Speaker, Wi...   \n",
       "\n",
       "        review_rating                                     review_content  \n",
       "0  5.0 out of 5 stars  I like everything about this speaker. the bass...  \n",
       "1  1.0 out of 5 stars  Se rompió la primera semana y no tuvo ninfun u...  \n",
       "2  5.0 out of 5 stars  Received this as a gift and I love it! Easy to...  "
      ]
     },
     "execution_count": 2,
     "metadata": {},
     "output_type": "execute_result"
    }
   ],
   "source": [
    "# Crate data frame\n",
    "df = pd.read_csv('review_scraper_all.csv')\n",
    "df.head(3)"
   ]
  },
  {
   "cell_type": "code",
   "execution_count": 7,
   "metadata": {},
   "outputs": [
    {
     "data": {
      "text/html": [
       "<div>\n",
       "<style scoped>\n",
       "    .dataframe tbody tr th:only-of-type {\n",
       "        vertical-align: middle;\n",
       "    }\n",
       "\n",
       "    .dataframe tbody tr th {\n",
       "        vertical-align: top;\n",
       "    }\n",
       "\n",
       "    .dataframe thead th {\n",
       "        text-align: right;\n",
       "    }\n",
       "</style>\n",
       "<table border=\"1\" class=\"dataframe\">\n",
       "  <thead>\n",
       "    <tr style=\"text-align: right;\">\n",
       "      <th></th>\n",
       "      <th>Unnamed: 0</th>\n",
       "      <th>product_name</th>\n",
       "      <th>review_rating</th>\n",
       "      <th>content</th>\n",
       "    </tr>\n",
       "  </thead>\n",
       "  <tbody>\n",
       "    <tr>\n",
       "      <th>0</th>\n",
       "      <td>0</td>\n",
       "      <td>JBL FLIP 4 - Waterproof Portable Bluetooth Spe...</td>\n",
       "      <td>5.0 out of 5 stars</td>\n",
       "      <td>I like everything about this speaker. the bass...</td>\n",
       "    </tr>\n",
       "    <tr>\n",
       "      <th>1</th>\n",
       "      <td>1</td>\n",
       "      <td>JBL FLIP 4 - Waterproof Portable Bluetooth Spe...</td>\n",
       "      <td>1.0 out of 5 stars</td>\n",
       "      <td>Se rompió la primera semana y no tuvo ninfun u...</td>\n",
       "    </tr>\n",
       "    <tr>\n",
       "      <th>2</th>\n",
       "      <td>2</td>\n",
       "      <td>Sonos Move - Battery-powered Smart Speaker, Wi...</td>\n",
       "      <td>5.0 out of 5 stars</td>\n",
       "      <td>Received this as a gift and I love it! Easy to...</td>\n",
       "    </tr>\n",
       "  </tbody>\n",
       "</table>\n",
       "</div>"
      ],
      "text/plain": [
       "   Unnamed: 0                                       product_name  \\\n",
       "0           0  JBL FLIP 4 - Waterproof Portable Bluetooth Spe...   \n",
       "1           1  JBL FLIP 4 - Waterproof Portable Bluetooth Spe...   \n",
       "2           2  Sonos Move - Battery-powered Smart Speaker, Wi...   \n",
       "\n",
       "        review_rating                                            content  \n",
       "0  5.0 out of 5 stars  I like everything about this speaker. the bass...  \n",
       "1  1.0 out of 5 stars  Se rompió la primera semana y no tuvo ninfun u...  \n",
       "2  5.0 out of 5 stars  Received this as a gift and I love it! Easy to...  "
      ]
     },
     "execution_count": 7,
     "metadata": {},
     "output_type": "execute_result"
    }
   ],
   "source": [
    "# Rename the columns\n",
    "df3 = df.rename(columns={'product_page': 'product_name',\n",
    "                          'review_content': 'content'})\n",
    "df3.head(3)"
   ]
  },
  {
   "cell_type": "markdown",
   "metadata": {},
   "source": [
    "# Language Detection"
   ]
  },
  {
   "cell_type": "code",
   "execution_count": 9,
   "metadata": {},
   "outputs": [
    {
     "data": {
      "text/html": [
       "<div>\n",
       "<style scoped>\n",
       "    .dataframe tbody tr th:only-of-type {\n",
       "        vertical-align: middle;\n",
       "    }\n",
       "\n",
       "    .dataframe tbody tr th {\n",
       "        vertical-align: top;\n",
       "    }\n",
       "\n",
       "    .dataframe thead th {\n",
       "        text-align: right;\n",
       "    }\n",
       "</style>\n",
       "<table border=\"1\" class=\"dataframe\">\n",
       "  <thead>\n",
       "    <tr style=\"text-align: right;\">\n",
       "      <th></th>\n",
       "      <th>language</th>\n",
       "    </tr>\n",
       "  </thead>\n",
       "  <tbody>\n",
       "    <tr>\n",
       "      <th>0</th>\n",
       "      <td>en</td>\n",
       "    </tr>\n",
       "    <tr>\n",
       "      <th>1</th>\n",
       "      <td>es</td>\n",
       "    </tr>\n",
       "    <tr>\n",
       "      <th>2</th>\n",
       "      <td>en</td>\n",
       "    </tr>\n",
       "    <tr>\n",
       "      <th>3</th>\n",
       "      <td>en</td>\n",
       "    </tr>\n",
       "    <tr>\n",
       "      <th>4</th>\n",
       "      <td>en</td>\n",
       "    </tr>\n",
       "    <tr>\n",
       "      <th>...</th>\n",
       "      <td>...</td>\n",
       "    </tr>\n",
       "    <tr>\n",
       "      <th>232688</th>\n",
       "      <td>en</td>\n",
       "    </tr>\n",
       "    <tr>\n",
       "      <th>232689</th>\n",
       "      <td>es</td>\n",
       "    </tr>\n",
       "    <tr>\n",
       "      <th>232690</th>\n",
       "      <td>en</td>\n",
       "    </tr>\n",
       "    <tr>\n",
       "      <th>232691</th>\n",
       "      <td>lt</td>\n",
       "    </tr>\n",
       "    <tr>\n",
       "      <th>232692</th>\n",
       "      <td>ca</td>\n",
       "    </tr>\n",
       "  </tbody>\n",
       "</table>\n",
       "<p>232693 rows × 1 columns</p>\n",
       "</div>"
      ],
      "text/plain": [
       "       language\n",
       "0            en\n",
       "1            es\n",
       "2            en\n",
       "3            en\n",
       "4            en\n",
       "...         ...\n",
       "232688       en\n",
       "232689       es\n",
       "232690       en\n",
       "232691       lt\n",
       "232692       ca\n",
       "\n",
       "[232693 rows x 1 columns]"
      ]
     },
     "execution_count": 9,
     "metadata": {},
     "output_type": "execute_result"
    }
   ],
   "source": [
    "language = []\n",
    "\n",
    "for i in range(len(df3)):\n",
    "  l = cld3.get_language(df3.content[i])[0]\n",
    "  language.append(l)\n",
    "  df_lan = pd.DataFrame({'language':language})\n",
    "  \n",
    "df_lan"
   ]
  },
  {
   "cell_type": "code",
   "execution_count": 32,
   "metadata": {},
   "outputs": [
    {
     "data": {
      "text/plain": [
       "(232693, 5)"
      ]
     },
     "execution_count": 32,
     "metadata": {},
     "output_type": "execute_result"
    }
   ],
   "source": [
    "df3_1 = pd.concat([df3, df_lan], axis=1)\n",
    "df3_1.shape"
   ]
  },
  {
   "cell_type": "code",
   "execution_count": 33,
   "metadata": {},
   "outputs": [],
   "source": [
    "df3_1.to_csv('review_scraper_all_lan.csv')"
   ]
  },
  {
   "cell_type": "code",
   "execution_count": 16,
   "metadata": {},
   "outputs": [
    {
     "name": "stdout",
     "output_type": "stream",
     "text": [
      "(211232, 5)\n"
     ]
    }
   ],
   "source": [
    "df3_2 = df3_1[~df3_1.language.isin(['es','fr','it','ja'])]\n",
    "print(df3_2.shape)"
   ]
  },
  {
   "cell_type": "code",
   "execution_count": 34,
   "metadata": {},
   "outputs": [],
   "source": [
    "df3_2.to_csv('review_scraper_all_cln.csv')"
   ]
  },
  {
   "cell_type": "markdown",
   "metadata": {},
   "source": [
    "# Merge review data with price data"
   ]
  },
  {
   "cell_type": "code",
   "execution_count": 36,
   "metadata": {},
   "outputs": [
    {
     "data": {
      "text/html": [
       "<div>\n",
       "<style scoped>\n",
       "    .dataframe tbody tr th:only-of-type {\n",
       "        vertical-align: middle;\n",
       "    }\n",
       "\n",
       "    .dataframe tbody tr th {\n",
       "        vertical-align: top;\n",
       "    }\n",
       "\n",
       "    .dataframe thead th {\n",
       "        text-align: right;\n",
       "    }\n",
       "</style>\n",
       "<table border=\"1\" class=\"dataframe\">\n",
       "  <thead>\n",
       "    <tr style=\"text-align: right;\">\n",
       "      <th></th>\n",
       "      <th>Unnamed: 0</th>\n",
       "      <th>product_name</th>\n",
       "      <th>price</th>\n",
       "      <th>y_value</th>\n",
       "      <th>cluster</th>\n",
       "    </tr>\n",
       "  </thead>\n",
       "  <tbody>\n",
       "    <tr>\n",
       "      <th>0</th>\n",
       "      <td>0</td>\n",
       "      <td>UpBright AUX in Cable Audio in Cord Compatible...</td>\n",
       "      <td>3.99</td>\n",
       "      <td>0</td>\n",
       "      <td>3</td>\n",
       "    </tr>\n",
       "    <tr>\n",
       "      <th>1</th>\n",
       "      <td>1</td>\n",
       "      <td>UPBRIGHT New USB PC Charging CABE Cord Lead fo...</td>\n",
       "      <td>3.99</td>\n",
       "      <td>0</td>\n",
       "      <td>3</td>\n",
       "    </tr>\n",
       "    <tr>\n",
       "      <th>2</th>\n",
       "      <td>2</td>\n",
       "      <td>125 Bass Speaker Voice Coil, Speaker Coil Repl...</td>\n",
       "      <td>4.49</td>\n",
       "      <td>0</td>\n",
       "      <td>3</td>\n",
       "    </tr>\n",
       "  </tbody>\n",
       "</table>\n",
       "</div>"
      ],
      "text/plain": [
       "   Unnamed: 0                                       product_name  price  \\\n",
       "0           0  UpBright AUX in Cable Audio in Cord Compatible...   3.99   \n",
       "1           1  UPBRIGHT New USB PC Charging CABE Cord Lead fo...   3.99   \n",
       "2           2  125 Bass Speaker Voice Coil, Speaker Coil Repl...   4.49   \n",
       "\n",
       "   y_value  cluster  \n",
       "0        0        3  \n",
       "1        0        3  \n",
       "2        0        3  "
      ]
     },
     "execution_count": 36,
     "metadata": {},
     "output_type": "execute_result"
    }
   ],
   "source": [
    "df_pr = pd.read_csv('price_clusters.csv')\n",
    "df_pr.head(3)"
   ]
  },
  {
   "cell_type": "code",
   "execution_count": 37,
   "metadata": {},
   "outputs": [
    {
     "data": {
      "text/html": [
       "<div>\n",
       "<style scoped>\n",
       "    .dataframe tbody tr th:only-of-type {\n",
       "        vertical-align: middle;\n",
       "    }\n",
       "\n",
       "    .dataframe tbody tr th {\n",
       "        vertical-align: top;\n",
       "    }\n",
       "\n",
       "    .dataframe thead th {\n",
       "        text-align: right;\n",
       "    }\n",
       "</style>\n",
       "<table border=\"1\" class=\"dataframe\">\n",
       "  <thead>\n",
       "    <tr style=\"text-align: right;\">\n",
       "      <th></th>\n",
       "      <th>Unnamed: 0_x</th>\n",
       "      <th>product_name</th>\n",
       "      <th>review_rating</th>\n",
       "      <th>content</th>\n",
       "      <th>language</th>\n",
       "      <th>Unnamed: 0_y</th>\n",
       "      <th>price</th>\n",
       "      <th>y_value</th>\n",
       "      <th>cluster</th>\n",
       "    </tr>\n",
       "  </thead>\n",
       "  <tbody>\n",
       "    <tr>\n",
       "      <th>0</th>\n",
       "      <td>0</td>\n",
       "      <td>JBL FLIP 4 - Waterproof Portable Bluetooth Spe...</td>\n",
       "      <td>5.0 out of 5 stars</td>\n",
       "      <td>I like everything about this speaker. the bass...</td>\n",
       "      <td>en</td>\n",
       "      <td>4202</td>\n",
       "      <td>78.94</td>\n",
       "      <td>0</td>\n",
       "      <td>0</td>\n",
       "    </tr>\n",
       "    <tr>\n",
       "      <th>1</th>\n",
       "      <td>3</td>\n",
       "      <td>JBL FLIP 4 - Waterproof Portable Bluetooth Spe...</td>\n",
       "      <td>5.0 out of 5 stars</td>\n",
       "      <td>Great</td>\n",
       "      <td>en</td>\n",
       "      <td>4202</td>\n",
       "      <td>78.94</td>\n",
       "      <td>0</td>\n",
       "      <td>0</td>\n",
       "    </tr>\n",
       "    <tr>\n",
       "      <th>2</th>\n",
       "      <td>7</td>\n",
       "      <td>JBL FLIP 4 - Waterproof Portable Bluetooth Spe...</td>\n",
       "      <td>5.0 out of 5 stars</td>\n",
       "      <td>Love it! At some Wal-Mart stores they have the...</td>\n",
       "      <td>en</td>\n",
       "      <td>4202</td>\n",
       "      <td>78.94</td>\n",
       "      <td>0</td>\n",
       "      <td>0</td>\n",
       "    </tr>\n",
       "  </tbody>\n",
       "</table>\n",
       "</div>"
      ],
      "text/plain": [
       "   Unnamed: 0_x                                       product_name  \\\n",
       "0             0  JBL FLIP 4 - Waterproof Portable Bluetooth Spe...   \n",
       "1             3  JBL FLIP 4 - Waterproof Portable Bluetooth Spe...   \n",
       "2             7  JBL FLIP 4 - Waterproof Portable Bluetooth Spe...   \n",
       "\n",
       "        review_rating                                            content  \\\n",
       "0  5.0 out of 5 stars  I like everything about this speaker. the bass...   \n",
       "1  5.0 out of 5 stars                                              Great   \n",
       "2  5.0 out of 5 stars  Love it! At some Wal-Mart stores they have the...   \n",
       "\n",
       "  language  Unnamed: 0_y  price  y_value  cluster  \n",
       "0       en          4202  78.94        0        0  \n",
       "1       en          4202  78.94        0        0  \n",
       "2       en          4202  78.94        0        0  "
      ]
     },
     "execution_count": 37,
     "metadata": {},
     "output_type": "execute_result"
    }
   ],
   "source": [
    "df4 = df3_2.merge(df_pr, on='product_name')\n",
    "df4.head(3)"
   ]
  },
  {
   "cell_type": "code",
   "execution_count": 38,
   "metadata": {},
   "outputs": [
    {
     "data": {
      "text/html": [
       "<div>\n",
       "<style scoped>\n",
       "    .dataframe tbody tr th:only-of-type {\n",
       "        vertical-align: middle;\n",
       "    }\n",
       "\n",
       "    .dataframe tbody tr th {\n",
       "        vertical-align: top;\n",
       "    }\n",
       "\n",
       "    .dataframe thead th {\n",
       "        text-align: right;\n",
       "    }\n",
       "</style>\n",
       "<table border=\"1\" class=\"dataframe\">\n",
       "  <thead>\n",
       "    <tr style=\"text-align: right;\">\n",
       "      <th></th>\n",
       "      <th>cluster</th>\n",
       "      <th>product_name</th>\n",
       "      <th>price</th>\n",
       "      <th>review_rating</th>\n",
       "      <th>content</th>\n",
       "    </tr>\n",
       "  </thead>\n",
       "  <tbody>\n",
       "    <tr>\n",
       "      <th>0</th>\n",
       "      <td>0</td>\n",
       "      <td>JBL FLIP 4 - Waterproof Portable Bluetooth Spe...</td>\n",
       "      <td>78.94</td>\n",
       "      <td>5.0 out of 5 stars</td>\n",
       "      <td>I like everything about this speaker. the bass...</td>\n",
       "    </tr>\n",
       "    <tr>\n",
       "      <th>1</th>\n",
       "      <td>0</td>\n",
       "      <td>JBL FLIP 4 - Waterproof Portable Bluetooth Spe...</td>\n",
       "      <td>78.94</td>\n",
       "      <td>5.0 out of 5 stars</td>\n",
       "      <td>Great</td>\n",
       "    </tr>\n",
       "    <tr>\n",
       "      <th>2</th>\n",
       "      <td>0</td>\n",
       "      <td>JBL FLIP 4 - Waterproof Portable Bluetooth Spe...</td>\n",
       "      <td>78.94</td>\n",
       "      <td>5.0 out of 5 stars</td>\n",
       "      <td>Love it! At some Wal-Mart stores they have the...</td>\n",
       "    </tr>\n",
       "  </tbody>\n",
       "</table>\n",
       "</div>"
      ],
      "text/plain": [
       "   cluster                                       product_name  price  \\\n",
       "0        0  JBL FLIP 4 - Waterproof Portable Bluetooth Spe...  78.94   \n",
       "1        0  JBL FLIP 4 - Waterproof Portable Bluetooth Spe...  78.94   \n",
       "2        0  JBL FLIP 4 - Waterproof Portable Bluetooth Spe...  78.94   \n",
       "\n",
       "        review_rating                                            content  \n",
       "0  5.0 out of 5 stars  I like everything about this speaker. the bass...  \n",
       "1  5.0 out of 5 stars                                              Great  \n",
       "2  5.0 out of 5 stars  Love it! At some Wal-Mart stores they have the...  "
      ]
     },
     "execution_count": 38,
     "metadata": {},
     "output_type": "execute_result"
    }
   ],
   "source": [
    "# Drop useless columns\n",
    "df5 = df4[['cluster', 'product_name', 'price', 'review_rating', 'content']]\n",
    "df5.head(3)"
   ]
  },
  {
   "cell_type": "code",
   "execution_count": 39,
   "metadata": {},
   "outputs": [
    {
     "data": {
      "text/plain": [
       "(105575, 5)"
      ]
     },
     "execution_count": 39,
     "metadata": {},
     "output_type": "execute_result"
    }
   ],
   "source": [
    "# Get the first letter of strings in the rating column\n",
    "df5['rating'] = df5['review_rating'].astype(str).str[0]\n",
    "df6 = df5[['cluster', 'product_name', 'price', 'rating', 'content']]\n",
    "df6.shape"
   ]
  },
  {
   "cell_type": "code",
   "execution_count": 40,
   "metadata": {},
   "outputs": [],
   "source": [
    "# Sorting by price\n",
    "df8 = df6.sort_values('price', ascending=True)"
   ]
  },
  {
   "cell_type": "code",
   "execution_count": 41,
   "metadata": {},
   "outputs": [
    {
     "data": {
      "text/html": [
       "<div>\n",
       "<style scoped>\n",
       "    .dataframe tbody tr th:only-of-type {\n",
       "        vertical-align: middle;\n",
       "    }\n",
       "\n",
       "    .dataframe tbody tr th {\n",
       "        vertical-align: top;\n",
       "    }\n",
       "\n",
       "    .dataframe thead th {\n",
       "        text-align: right;\n",
       "    }\n",
       "</style>\n",
       "<table border=\"1\" class=\"dataframe\">\n",
       "  <thead>\n",
       "    <tr style=\"text-align: right;\">\n",
       "      <th></th>\n",
       "      <th>cluster</th>\n",
       "      <th>product_name</th>\n",
       "      <th>price</th>\n",
       "      <th>rating</th>\n",
       "      <th>content</th>\n",
       "    </tr>\n",
       "  </thead>\n",
       "  <tbody>\n",
       "    <tr>\n",
       "      <th>99738</th>\n",
       "      <td>3</td>\n",
       "      <td>ZOEA Portable Bluetooth Speaker Mount for Golf...</td>\n",
       "      <td>7.99</td>\n",
       "      <td>5</td>\n",
       "      <td>When ordering I was unsure if the holder would...</td>\n",
       "    </tr>\n",
       "    <tr>\n",
       "      <th>99739</th>\n",
       "      <td>3</td>\n",
       "      <td>ZOEA Portable Bluetooth Speaker Mount for Golf...</td>\n",
       "      <td>7.99</td>\n",
       "      <td>1</td>\n",
       "      <td>Miss leading add it's not useful\\nfor anything</td>\n",
       "    </tr>\n",
       "    <tr>\n",
       "      <th>99740</th>\n",
       "      <td>3</td>\n",
       "      <td>ZOEA Portable Bluetooth Speaker Mount for Golf...</td>\n",
       "      <td>7.99</td>\n",
       "      <td>5</td>\n",
       "      <td>Very adaptable to all different location mounts.</td>\n",
       "    </tr>\n",
       "    <tr>\n",
       "      <th>99741</th>\n",
       "      <td>3</td>\n",
       "      <td>ZOEA Portable Bluetooth Speaker Mount for Golf...</td>\n",
       "      <td>7.99</td>\n",
       "      <td>2</td>\n",
       "      <td>I thought it was a speaker but it's just a lit...</td>\n",
       "    </tr>\n",
       "    <tr>\n",
       "      <th>77926</th>\n",
       "      <td>3</td>\n",
       "      <td>Bluetooth Speaker, HotNCold Vintage Surround S...</td>\n",
       "      <td>9.99</td>\n",
       "      <td>5</td>\n",
       "      <td>Great product, great service.</td>\n",
       "    </tr>\n",
       "  </tbody>\n",
       "</table>\n",
       "</div>"
      ],
      "text/plain": [
       "       cluster                                       product_name  price  \\\n",
       "99738        3  ZOEA Portable Bluetooth Speaker Mount for Golf...   7.99   \n",
       "99739        3  ZOEA Portable Bluetooth Speaker Mount for Golf...   7.99   \n",
       "99740        3  ZOEA Portable Bluetooth Speaker Mount for Golf...   7.99   \n",
       "99741        3  ZOEA Portable Bluetooth Speaker Mount for Golf...   7.99   \n",
       "77926        3  Bluetooth Speaker, HotNCold Vintage Surround S...   9.99   \n",
       "\n",
       "      rating                                            content  \n",
       "99738      5  When ordering I was unsure if the holder would...  \n",
       "99739      1     Miss leading add it's not useful\\nfor anything  \n",
       "99740      5   Very adaptable to all different location mounts.  \n",
       "99741      2  I thought it was a speaker but it's just a lit...  \n",
       "77926      5                      Great product, great service.  "
      ]
     },
     "execution_count": 41,
     "metadata": {},
     "output_type": "execute_result"
    }
   ],
   "source": [
    "# Save data frame to csv\n",
    "df8.to_csv('product_reviews.csv')\n",
    "df8.head()"
   ]
  },
  {
   "cell_type": "markdown",
   "metadata": {},
   "source": [
    "# Break into five data frames by cluster"
   ]
  },
  {
   "cell_type": "code",
   "execution_count": 42,
   "metadata": {},
   "outputs": [],
   "source": [
    "rv_c1 = df8[df8.cluster == df8['cluster'].unique()[0]]\n",
    "rv_c2 = df8[df8.cluster == df8['cluster'].unique()[1]]\n",
    "rv_c3 = df8[df8.cluster == df8['cluster'].unique()[2]]\n",
    "rv_c4 = df8[df8.cluster == df8['cluster'].unique()[3]]\n",
    "rv_c5 = df8[df8.cluster == df8['cluster'].unique()[4]]"
   ]
  },
  {
   "cell_type": "code",
   "execution_count": 43,
   "metadata": {},
   "outputs": [
    {
     "name": "stdout",
     "output_type": "stream",
     "text": [
      "62942\n",
      "21906\n",
      "10286\n",
      "8258\n",
      "2183\n"
     ]
    }
   ],
   "source": [
    "# How many reviews in each cluster\n",
    "print(rv_c1.shape[0])\n",
    "print(rv_c2.shape[0])\n",
    "print(rv_c3.shape[0])\n",
    "print(rv_c4.shape[0])\n",
    "print(rv_c5.shape[0])"
   ]
  }
 ],
 "metadata": {
  "kernelspec": {
   "display_name": "Python 3",
   "language": "python",
   "name": "python3"
  },
  "language_info": {
   "codemirror_mode": {
    "name": "ipython",
    "version": 3
   },
   "file_extension": ".py",
   "mimetype": "text/x-python",
   "name": "python",
   "nbconvert_exporter": "python",
   "pygments_lexer": "ipython3",
   "version": "3.8.5"
  }
 },
 "nbformat": 4,
 "nbformat_minor": 4
}
