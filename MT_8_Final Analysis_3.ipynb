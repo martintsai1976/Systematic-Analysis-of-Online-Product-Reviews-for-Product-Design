{
 "cells": [
  {
   "cell_type": "code",
   "execution_count": 1,
   "metadata": {},
   "outputs": [],
   "source": [
    "from sklearn.cluster import KMeans\n",
    "from sklearn.preprocessing import MinMaxScaler\n",
    "import pandas as pd\n",
    "import numpy as np\n",
    "from matplotlib import pyplot as plt\n",
    "from collections import Counter\n",
    "import matplotlib.patches as mpatches\n",
    "from matplotlib.lines import Line2D\n",
    "import matplotlib.transforms\n",
    "%matplotlib inline\n",
    "\n",
    "import warnings\n",
    "warnings.filterwarnings('ignore')"
   ]
  },
  {
   "cell_type": "markdown",
   "metadata": {},
   "source": [
    "# Load SA results"
   ]
  },
  {
   "cell_type": "code",
   "execution_count": 2,
   "metadata": {},
   "outputs": [],
   "source": [
    "df_p = pd.read_csv('SA_results_v7_p.csv')\n",
    "df_n = pd.read_csv('SA_results_v7_n.csv')\n",
    "\n",
    "df_p = df_p[['sentence', 'sentiment', 'strength']]\n",
    "df_n = df_n[['sentence', 'sentiment', 'strength']]"
   ]
  },
  {
   "cell_type": "code",
   "execution_count": 3,
   "metadata": {},
   "outputs": [
    {
     "name": "stdout",
     "output_type": "stream",
     "text": [
      "151024\n"
     ]
    },
    {
     "data": {
      "text/html": [
       "<div>\n",
       "<style scoped>\n",
       "    .dataframe tbody tr th:only-of-type {\n",
       "        vertical-align: middle;\n",
       "    }\n",
       "\n",
       "    .dataframe tbody tr th {\n",
       "        vertical-align: top;\n",
       "    }\n",
       "\n",
       "    .dataframe thead th {\n",
       "        text-align: right;\n",
       "    }\n",
       "</style>\n",
       "<table border=\"1\" class=\"dataframe\">\n",
       "  <thead>\n",
       "    <tr style=\"text-align: right;\">\n",
       "      <th></th>\n",
       "      <th>sentence</th>\n",
       "      <th>sentiment</th>\n",
       "      <th>strength</th>\n",
       "    </tr>\n",
       "  </thead>\n",
       "  <tbody>\n",
       "    <tr>\n",
       "      <th>0</th>\n",
       "      <td>when ordering i was unsure if the holder would...</td>\n",
       "      <td>positive</td>\n",
       "      <td>0.451169</td>\n",
       "    </tr>\n",
       "    <tr>\n",
       "      <th>1</th>\n",
       "      <td>very adaptable to all different location mounts.</td>\n",
       "      <td>positive</td>\n",
       "      <td>0.890246</td>\n",
       "    </tr>\n",
       "    <tr>\n",
       "      <th>2</th>\n",
       "      <td>great product, great service.</td>\n",
       "      <td>positive</td>\n",
       "      <td>1.000000</td>\n",
       "    </tr>\n",
       "  </tbody>\n",
       "</table>\n",
       "</div>"
      ],
      "text/plain": [
       "                                            sentence sentiment  strength\n",
       "0  when ordering i was unsure if the holder would...  positive  0.451169\n",
       "1   very adaptable to all different location mounts.  positive  0.890246\n",
       "2                      great product, great service.  positive  1.000000"
      ]
     },
     "execution_count": 3,
     "metadata": {},
     "output_type": "execute_result"
    }
   ],
   "source": [
    "print(len(df_p))\n",
    "df_p.head(3)"
   ]
  },
  {
   "cell_type": "code",
   "execution_count": 4,
   "metadata": {},
   "outputs": [
    {
     "name": "stdout",
     "output_type": "stream",
     "text": [
      "27176\n"
     ]
    },
    {
     "data": {
      "text/html": [
       "<div>\n",
       "<style scoped>\n",
       "    .dataframe tbody tr th:only-of-type {\n",
       "        vertical-align: middle;\n",
       "    }\n",
       "\n",
       "    .dataframe tbody tr th {\n",
       "        vertical-align: top;\n",
       "    }\n",
       "\n",
       "    .dataframe thead th {\n",
       "        text-align: right;\n",
       "    }\n",
       "</style>\n",
       "<table border=\"1\" class=\"dataframe\">\n",
       "  <thead>\n",
       "    <tr style=\"text-align: right;\">\n",
       "      <th></th>\n",
       "      <th>sentence</th>\n",
       "      <th>sentiment</th>\n",
       "      <th>strength</th>\n",
       "    </tr>\n",
       "  </thead>\n",
       "  <tbody>\n",
       "    <tr>\n",
       "      <th>0</th>\n",
       "      <td>miss leading add it's not useful\\nfor anything</td>\n",
       "      <td>negative</td>\n",
       "      <td>0.788803</td>\n",
       "    </tr>\n",
       "    <tr>\n",
       "      <th>1</th>\n",
       "      <td>i thought it was a speaker but it's just a lit...</td>\n",
       "      <td>negative</td>\n",
       "      <td>0.963449</td>\n",
       "    </tr>\n",
       "    <tr>\n",
       "      <th>2</th>\n",
       "      <td>love the size and good bass quality, but it do...</td>\n",
       "      <td>negative</td>\n",
       "      <td>0.886279</td>\n",
       "    </tr>\n",
       "  </tbody>\n",
       "</table>\n",
       "</div>"
      ],
      "text/plain": [
       "                                            sentence sentiment  strength\n",
       "0     miss leading add it's not useful\\nfor anything  negative  0.788803\n",
       "1  i thought it was a speaker but it's just a lit...  negative  0.963449\n",
       "2  love the size and good bass quality, but it do...  negative  0.886279"
      ]
     },
     "execution_count": 4,
     "metadata": {},
     "output_type": "execute_result"
    }
   ],
   "source": [
    "print(len(df_n))\n",
    "df_n.head(3)"
   ]
  },
  {
   "cell_type": "code",
   "execution_count": 5,
   "metadata": {},
   "outputs": [
    {
     "data": {
      "text/plain": [
       "178200"
      ]
     },
     "execution_count": 5,
     "metadata": {},
     "output_type": "execute_result"
    }
   ],
   "source": [
    "df_s = df_p.append(df_n)\n",
    "len(df_s)"
   ]
  },
  {
   "cell_type": "markdown",
   "metadata": {},
   "source": [
    "# Merge with product features"
   ]
  },
  {
   "cell_type": "code",
   "execution_count": 6,
   "metadata": {},
   "outputs": [],
   "source": [
    "df_f = pd.read_csv('FSP_without_st.csv')\n",
    "df_f.drop(columns='Unnamed: 0', inplace=True)\n",
    "df_f.rename(columns={'FSP':'feature', 'feature':'noun', 'sentiment':'adjective'}, inplace=True)"
   ]
  },
  {
   "cell_type": "code",
   "execution_count": 7,
   "metadata": {},
   "outputs": [
    {
     "name": "stdout",
     "output_type": "stream",
     "text": [
      "2269443\n"
     ]
    },
    {
     "data": {
      "text/html": [
       "<div>\n",
       "<style scoped>\n",
       "    .dataframe tbody tr th:only-of-type {\n",
       "        vertical-align: middle;\n",
       "    }\n",
       "\n",
       "    .dataframe tbody tr th {\n",
       "        vertical-align: top;\n",
       "    }\n",
       "\n",
       "    .dataframe thead th {\n",
       "        text-align: right;\n",
       "    }\n",
       "</style>\n",
       "<table border=\"1\" class=\"dataframe\">\n",
       "  <thead>\n",
       "    <tr style=\"text-align: right;\">\n",
       "      <th></th>\n",
       "      <th>cluster</th>\n",
       "      <th>price</th>\n",
       "      <th>product_name</th>\n",
       "      <th>sentence</th>\n",
       "      <th>feature</th>\n",
       "      <th>noun</th>\n",
       "      <th>adjective</th>\n",
       "    </tr>\n",
       "  </thead>\n",
       "  <tbody>\n",
       "    <tr>\n",
       "      <th>0</th>\n",
       "      <td>3</td>\n",
       "      <td>7.99</td>\n",
       "      <td>ZOEA Portable Bluetooth Speaker Mount for Golf...</td>\n",
       "      <td>when ordering i was unsure if the holder would...</td>\n",
       "      <td>unsure/i</td>\n",
       "      <td>i</td>\n",
       "      <td>unsure</td>\n",
       "    </tr>\n",
       "    <tr>\n",
       "      <th>1</th>\n",
       "      <td>3</td>\n",
       "      <td>7.99</td>\n",
       "      <td>ZOEA Portable Bluetooth Speaker Mount for Golf...</td>\n",
       "      <td>when ordering i was unsure if the holder would...</td>\n",
       "      <td>unsure/holder</td>\n",
       "      <td>holder</td>\n",
       "      <td>unsure</td>\n",
       "    </tr>\n",
       "    <tr>\n",
       "      <th>2</th>\n",
       "      <td>3</td>\n",
       "      <td>7.99</td>\n",
       "      <td>ZOEA Portable Bluetooth Speaker Mount for Golf...</td>\n",
       "      <td>when ordering i was unsure if the holder would...</td>\n",
       "      <td>unsure/jbl</td>\n",
       "      <td>jbl</td>\n",
       "      <td>unsure</td>\n",
       "    </tr>\n",
       "  </tbody>\n",
       "</table>\n",
       "</div>"
      ],
      "text/plain": [
       "   cluster  price                                       product_name  \\\n",
       "0        3   7.99  ZOEA Portable Bluetooth Speaker Mount for Golf...   \n",
       "1        3   7.99  ZOEA Portable Bluetooth Speaker Mount for Golf...   \n",
       "2        3   7.99  ZOEA Portable Bluetooth Speaker Mount for Golf...   \n",
       "\n",
       "                                            sentence        feature    noun  \\\n",
       "0  when ordering i was unsure if the holder would...       unsure/i       i   \n",
       "1  when ordering i was unsure if the holder would...  unsure/holder  holder   \n",
       "2  when ordering i was unsure if the holder would...     unsure/jbl     jbl   \n",
       "\n",
       "  adjective  \n",
       "0    unsure  \n",
       "1    unsure  \n",
       "2    unsure  "
      ]
     },
     "execution_count": 7,
     "metadata": {},
     "output_type": "execute_result"
    }
   ],
   "source": [
    "print(len(df_f))\n",
    "df_f.head(3)"
   ]
  },
  {
   "cell_type": "code",
   "execution_count": 8,
   "metadata": {},
   "outputs": [
    {
     "name": "stdout",
     "output_type": "stream",
     "text": [
      "1773004\n"
     ]
    },
    {
     "data": {
      "text/html": [
       "<div>\n",
       "<style scoped>\n",
       "    .dataframe tbody tr th:only-of-type {\n",
       "        vertical-align: middle;\n",
       "    }\n",
       "\n",
       "    .dataframe tbody tr th {\n",
       "        vertical-align: top;\n",
       "    }\n",
       "\n",
       "    .dataframe thead th {\n",
       "        text-align: right;\n",
       "    }\n",
       "</style>\n",
       "<table border=\"1\" class=\"dataframe\">\n",
       "  <thead>\n",
       "    <tr style=\"text-align: right;\">\n",
       "      <th></th>\n",
       "      <th>cluster</th>\n",
       "      <th>price</th>\n",
       "      <th>product_name</th>\n",
       "      <th>sentence</th>\n",
       "      <th>feature</th>\n",
       "      <th>noun</th>\n",
       "      <th>adjective</th>\n",
       "      <th>sentiment</th>\n",
       "      <th>strength</th>\n",
       "    </tr>\n",
       "  </thead>\n",
       "  <tbody>\n",
       "    <tr>\n",
       "      <th>0</th>\n",
       "      <td>3</td>\n",
       "      <td>7.99</td>\n",
       "      <td>ZOEA Portable Bluetooth Speaker Mount for Golf...</td>\n",
       "      <td>when ordering i was unsure if the holder would...</td>\n",
       "      <td>unsure/i</td>\n",
       "      <td>i</td>\n",
       "      <td>unsure</td>\n",
       "      <td>positive</td>\n",
       "      <td>0.451169</td>\n",
       "    </tr>\n",
       "    <tr>\n",
       "      <th>1</th>\n",
       "      <td>3</td>\n",
       "      <td>7.99</td>\n",
       "      <td>ZOEA Portable Bluetooth Speaker Mount for Golf...</td>\n",
       "      <td>when ordering i was unsure if the holder would...</td>\n",
       "      <td>unsure/holder</td>\n",
       "      <td>holder</td>\n",
       "      <td>unsure</td>\n",
       "      <td>positive</td>\n",
       "      <td>0.451169</td>\n",
       "    </tr>\n",
       "    <tr>\n",
       "      <th>2</th>\n",
       "      <td>3</td>\n",
       "      <td>7.99</td>\n",
       "      <td>ZOEA Portable Bluetooth Speaker Mount for Golf...</td>\n",
       "      <td>when ordering i was unsure if the holder would...</td>\n",
       "      <td>unsure/jbl</td>\n",
       "      <td>jbl</td>\n",
       "      <td>unsure</td>\n",
       "      <td>positive</td>\n",
       "      <td>0.451169</td>\n",
       "    </tr>\n",
       "  </tbody>\n",
       "</table>\n",
       "</div>"
      ],
      "text/plain": [
       "   cluster  price                                       product_name  \\\n",
       "0        3   7.99  ZOEA Portable Bluetooth Speaker Mount for Golf...   \n",
       "1        3   7.99  ZOEA Portable Bluetooth Speaker Mount for Golf...   \n",
       "2        3   7.99  ZOEA Portable Bluetooth Speaker Mount for Golf...   \n",
       "\n",
       "                                            sentence        feature    noun  \\\n",
       "0  when ordering i was unsure if the holder would...       unsure/i       i   \n",
       "1  when ordering i was unsure if the holder would...  unsure/holder  holder   \n",
       "2  when ordering i was unsure if the holder would...     unsure/jbl     jbl   \n",
       "\n",
       "  adjective sentiment  strength  \n",
       "0    unsure  positive  0.451169  \n",
       "1    unsure  positive  0.451169  \n",
       "2    unsure  positive  0.451169  "
      ]
     },
     "execution_count": 8,
     "metadata": {},
     "output_type": "execute_result"
    }
   ],
   "source": [
    "df_fsp = df_f.merge(df_s, on='sentence')\n",
    "print(len(df_fsp))\n",
    "df_fsp.head(3)"
   ]
  },
  {
   "cell_type": "code",
   "execution_count": 9,
   "metadata": {},
   "outputs": [],
   "source": [
    "# Clean uninformative features\n",
    "\n",
    "bad_noun = ['i']\n",
    "bad_adj = ['i']\n",
    "df_fsp2 = df_fsp[(~df_fsp.noun.isin(bad_noun)) & (~df_fsp.adjective.isin(bad_adj))]"
   ]
  },
  {
   "cell_type": "markdown",
   "metadata": {},
   "source": [
    "### Calculate average strength"
   ]
  },
  {
   "cell_type": "code",
   "execution_count": 10,
   "metadata": {},
   "outputs": [
    {
     "data": {
      "text/html": [
       "<div>\n",
       "<style scoped>\n",
       "    .dataframe tbody tr th:only-of-type {\n",
       "        vertical-align: middle;\n",
       "    }\n",
       "\n",
       "    .dataframe tbody tr th {\n",
       "        vertical-align: top;\n",
       "    }\n",
       "\n",
       "    .dataframe thead th {\n",
       "        text-align: right;\n",
       "    }\n",
       "</style>\n",
       "<table border=\"1\" class=\"dataframe\">\n",
       "  <thead>\n",
       "    <tr style=\"text-align: right;\">\n",
       "      <th></th>\n",
       "      <th></th>\n",
       "      <th>strength</th>\n",
       "    </tr>\n",
       "    <tr>\n",
       "      <th>cluster</th>\n",
       "      <th>feature</th>\n",
       "      <th></th>\n",
       "    </tr>\n",
       "  </thead>\n",
       "  <tbody>\n",
       "    <tr>\n",
       "      <th rowspan=\"3\" valign=\"top\">0</th>\n",
       "      <th>'acurate/battery</th>\n",
       "      <td>0.085323</td>\n",
       "    </tr>\n",
       "    <tr>\n",
       "      <th>'acurate/dot</th>\n",
       "      <td>0.085323</td>\n",
       "    </tr>\n",
       "    <tr>\n",
       "      <th>'acurate/indicator</th>\n",
       "      <td>0.085323</td>\n",
       "    </tr>\n",
       "  </tbody>\n",
       "</table>\n",
       "</div>"
      ],
      "text/plain": [
       "                            strength\n",
       "cluster feature                     \n",
       "0       'acurate/battery    0.085323\n",
       "        'acurate/dot        0.085323\n",
       "        'acurate/indicator  0.085323"
      ]
     },
     "execution_count": 10,
     "metadata": {},
     "output_type": "execute_result"
    }
   ],
   "source": [
    "df_avg = df_fsp2.groupby(['cluster', 'feature'])['strength'].mean().to_frame()\n",
    "df_avg.head(3)"
   ]
  },
  {
   "cell_type": "code",
   "execution_count": 11,
   "metadata": {},
   "outputs": [
    {
     "data": {
      "text/html": [
       "<div>\n",
       "<style scoped>\n",
       "    .dataframe tbody tr th:only-of-type {\n",
       "        vertical-align: middle;\n",
       "    }\n",
       "\n",
       "    .dataframe tbody tr th {\n",
       "        vertical-align: top;\n",
       "    }\n",
       "\n",
       "    .dataframe thead th {\n",
       "        text-align: right;\n",
       "    }\n",
       "</style>\n",
       "<table border=\"1\" class=\"dataframe\">\n",
       "  <thead>\n",
       "    <tr style=\"text-align: right;\">\n",
       "      <th></th>\n",
       "      <th>cluster</th>\n",
       "      <th>feature</th>\n",
       "      <th>sentiment</th>\n",
       "      <th>strength</th>\n",
       "      <th>price</th>\n",
       "      <th>product_name</th>\n",
       "      <th>sentence</th>\n",
       "    </tr>\n",
       "  </thead>\n",
       "  <tbody>\n",
       "    <tr>\n",
       "      <th>0</th>\n",
       "      <td>3</td>\n",
       "      <td>unsure/holder</td>\n",
       "      <td>positive</td>\n",
       "      <td>0.451169</td>\n",
       "      <td>7.99</td>\n",
       "      <td>ZOEA Portable Bluetooth Speaker Mount for Golf...</td>\n",
       "      <td>when ordering i was unsure if the holder would...</td>\n",
       "    </tr>\n",
       "    <tr>\n",
       "      <th>1</th>\n",
       "      <td>3</td>\n",
       "      <td>unsure/jbl</td>\n",
       "      <td>positive</td>\n",
       "      <td>0.451169</td>\n",
       "      <td>7.99</td>\n",
       "      <td>ZOEA Portable Bluetooth Speaker Mount for Golf...</td>\n",
       "      <td>when ordering i was unsure if the holder would...</td>\n",
       "    </tr>\n",
       "    <tr>\n",
       "      <th>2</th>\n",
       "      <td>3</td>\n",
       "      <td>unsure/speaker</td>\n",
       "      <td>positive</td>\n",
       "      <td>0.734731</td>\n",
       "      <td>7.99</td>\n",
       "      <td>ZOEA Portable Bluetooth Speaker Mount for Golf...</td>\n",
       "      <td>when ordering i was unsure if the holder would...</td>\n",
       "    </tr>\n",
       "    <tr>\n",
       "      <th>3</th>\n",
       "      <td>3</td>\n",
       "      <td>unsure/speaker</td>\n",
       "      <td>positive</td>\n",
       "      <td>0.734731</td>\n",
       "      <td>18.29</td>\n",
       "      <td>Portable Waterproof Bluetooth Speaker with FM ...</td>\n",
       "      <td>so, i was a bit unsure if this speaker would h...</td>\n",
       "    </tr>\n",
       "    <tr>\n",
       "      <th>4</th>\n",
       "      <td>3</td>\n",
       "      <td>unsure/speaker</td>\n",
       "      <td>positive</td>\n",
       "      <td>0.734731</td>\n",
       "      <td>34.99</td>\n",
       "      <td>iFox iF012 Bluetooth Shower Speaker - Certifie...</td>\n",
       "      <td>if you're unsure which waterproof/resistant bl...</td>\n",
       "    </tr>\n",
       "    <tr>\n",
       "      <th>...</th>\n",
       "      <td>...</td>\n",
       "      <td>...</td>\n",
       "      <td>...</td>\n",
       "      <td>...</td>\n",
       "      <td>...</td>\n",
       "      <td>...</td>\n",
       "      <td>...</td>\n",
       "    </tr>\n",
       "    <tr>\n",
       "      <th>1571406</th>\n",
       "      <td>4</td>\n",
       "      <td>nice/analog</td>\n",
       "      <td>positive</td>\n",
       "      <td>0.817046</td>\n",
       "      <td>499.00</td>\n",
       "      <td>Vifa Oslo Compact Rechargeable Hi-Resolution B...</td>\n",
       "      <td>still, the price is a bit offset by the build ...</td>\n",
       "    </tr>\n",
       "    <tr>\n",
       "      <th>1571407</th>\n",
       "      <td>4</td>\n",
       "      <td>nice/tote</td>\n",
       "      <td>positive</td>\n",
       "      <td>0.817046</td>\n",
       "      <td>499.00</td>\n",
       "      <td>Vifa Oslo Compact Rechargeable Hi-Resolution B...</td>\n",
       "      <td>still, the price is a bit offset by the build ...</td>\n",
       "    </tr>\n",
       "    <tr>\n",
       "      <th>1571408</th>\n",
       "      <td>4</td>\n",
       "      <td>nice/bag</td>\n",
       "      <td>positive</td>\n",
       "      <td>0.817046</td>\n",
       "      <td>499.00</td>\n",
       "      <td>Vifa Oslo Compact Rechargeable Hi-Resolution B...</td>\n",
       "      <td>still, the price is a bit offset by the build ...</td>\n",
       "    </tr>\n",
       "    <tr>\n",
       "      <th>1571409</th>\n",
       "      <td>4</td>\n",
       "      <td>nice/power</td>\n",
       "      <td>positive</td>\n",
       "      <td>0.817046</td>\n",
       "      <td>499.00</td>\n",
       "      <td>Vifa Oslo Compact Rechargeable Hi-Resolution B...</td>\n",
       "      <td>still, the price is a bit offset by the build ...</td>\n",
       "    </tr>\n",
       "    <tr>\n",
       "      <th>1571410</th>\n",
       "      <td>4</td>\n",
       "      <td>nice/supply</td>\n",
       "      <td>positive</td>\n",
       "      <td>0.817046</td>\n",
       "      <td>499.00</td>\n",
       "      <td>Vifa Oslo Compact Rechargeable Hi-Resolution B...</td>\n",
       "      <td>still, the price is a bit offset by the build ...</td>\n",
       "    </tr>\n",
       "  </tbody>\n",
       "</table>\n",
       "<p>1571411 rows × 7 columns</p>\n",
       "</div>"
      ],
      "text/plain": [
       "         cluster         feature sentiment  strength   price  \\\n",
       "0              3   unsure/holder  positive  0.451169    7.99   \n",
       "1              3      unsure/jbl  positive  0.451169    7.99   \n",
       "2              3  unsure/speaker  positive  0.734731    7.99   \n",
       "3              3  unsure/speaker  positive  0.734731   18.29   \n",
       "4              3  unsure/speaker  positive  0.734731   34.99   \n",
       "...          ...             ...       ...       ...     ...   \n",
       "1571406        4     nice/analog  positive  0.817046  499.00   \n",
       "1571407        4       nice/tote  positive  0.817046  499.00   \n",
       "1571408        4        nice/bag  positive  0.817046  499.00   \n",
       "1571409        4      nice/power  positive  0.817046  499.00   \n",
       "1571410        4     nice/supply  positive  0.817046  499.00   \n",
       "\n",
       "                                              product_name  \\\n",
       "0        ZOEA Portable Bluetooth Speaker Mount for Golf...   \n",
       "1        ZOEA Portable Bluetooth Speaker Mount for Golf...   \n",
       "2        ZOEA Portable Bluetooth Speaker Mount for Golf...   \n",
       "3        Portable Waterproof Bluetooth Speaker with FM ...   \n",
       "4        iFox iF012 Bluetooth Shower Speaker - Certifie...   \n",
       "...                                                    ...   \n",
       "1571406  Vifa Oslo Compact Rechargeable Hi-Resolution B...   \n",
       "1571407  Vifa Oslo Compact Rechargeable Hi-Resolution B...   \n",
       "1571408  Vifa Oslo Compact Rechargeable Hi-Resolution B...   \n",
       "1571409  Vifa Oslo Compact Rechargeable Hi-Resolution B...   \n",
       "1571410  Vifa Oslo Compact Rechargeable Hi-Resolution B...   \n",
       "\n",
       "                                                  sentence  \n",
       "0        when ordering i was unsure if the holder would...  \n",
       "1        when ordering i was unsure if the holder would...  \n",
       "2        when ordering i was unsure if the holder would...  \n",
       "3        so, i was a bit unsure if this speaker would h...  \n",
       "4        if you're unsure which waterproof/resistant bl...  \n",
       "...                                                    ...  \n",
       "1571406  still, the price is a bit offset by the build ...  \n",
       "1571407  still, the price is a bit offset by the build ...  \n",
       "1571408  still, the price is a bit offset by the build ...  \n",
       "1571409  still, the price is a bit offset by the build ...  \n",
       "1571410  still, the price is a bit offset by the build ...  \n",
       "\n",
       "[1571411 rows x 7 columns]"
      ]
     },
     "execution_count": 11,
     "metadata": {},
     "output_type": "execute_result"
    }
   ],
   "source": [
    "df_fsp3 = df_fsp2.merge(df_avg, on=['cluster', 'feature'])\n",
    "df_fsp3.drop(columns='strength_x', inplace=True)\n",
    "df_fsp3.rename(columns={'strength_y': 'strength'}, inplace=True)\n",
    "df_fsp3[['cluster', 'feature', 'sentiment', 'strength', \n",
    "        'price', 'product_name', 'sentence']]"
   ]
  },
  {
   "cell_type": "code",
   "execution_count": 12,
   "metadata": {},
   "outputs": [],
   "source": [
    "#df_fsp4 = df_fsp3[['cluster', 'feature', 'sentiment', 'strength', 'price', 'product_name', 'sentence']]\n",
    "#df_fsp4.to_csv('final_product.csv')"
   ]
  },
  {
   "cell_type": "markdown",
   "metadata": {},
   "source": [
    "### Correct cluster index"
   ]
  },
  {
   "cell_type": "code",
   "execution_count": 13,
   "metadata": {},
   "outputs": [
    {
     "name": "stdout",
     "output_type": "stream",
     "text": [
      "94621    49.99\n",
      "Name: price, dtype: float64\n",
      "86704    210.0\n",
      "Name: price, dtype: float64\n",
      "95977    99.99\n",
      "Name: price, dtype: float64\n",
      "0    7.99\n",
      "Name: price, dtype: float64\n",
      "97076    398.0\n",
      "Name: price, dtype: float64\n"
     ]
    }
   ],
   "source": [
    "print(df_fsp3[df_fsp3.cluster == 0]['price'].head(1)) #c2\n",
    "print(df_fsp3[df_fsp3.cluster == 1]['price'].head(1)) #c4\n",
    "print(df_fsp3[df_fsp3.cluster == 2]['price'].head(1)) #c3\n",
    "print(df_fsp3[df_fsp3.cluster == 3]['price'].head(1)) #c1\n",
    "print(df_fsp3[df_fsp3.cluster == 4]['price'].head(1)) #c5"
   ]
  },
  {
   "cell_type": "code",
   "execution_count": 14,
   "metadata": {},
   "outputs": [],
   "source": [
    "df_fsp3.loc[df_fsp3.cluster == 0, 'cluster'] = 'c2'\n",
    "df_fsp3.loc[df_fsp3.cluster == 1, 'cluster'] = 'c4'\n",
    "df_fsp3.loc[df_fsp3.cluster == 2, 'cluster'] = 'c3'\n",
    "df_fsp3.loc[df_fsp3.cluster == 3, 'cluster'] = 'c1'\n",
    "df_fsp3.loc[df_fsp3.cluster == 4, 'cluster'] = 'c5'"
   ]
  },
  {
   "cell_type": "markdown",
   "metadata": {},
   "source": [
    "# Weight FSP"
   ]
  },
  {
   "cell_type": "code",
   "execution_count": 15,
   "metadata": {},
   "outputs": [],
   "source": [
    "df_fsp_p = df_fsp3[df_fsp3.sentiment == 'positive']\n",
    "df_fsp_n = df_fsp3[df_fsp3.sentiment == 'negative']"
   ]
  },
  {
   "cell_type": "code",
   "execution_count": 16,
   "metadata": {},
   "outputs": [],
   "source": [
    "# Clean uninformative features\n",
    "\n",
    "bad_noun_p = ['speaker', 'der', 'product', '*', 't']\n",
    "bad_adj_p = ['sound', 'easy', 'sonos', 'alexa']\n",
    "df_fsp_p2 = df_fsp_p[(~df_fsp_p.noun.isin(bad_noun_p)) & (~df_fsp_p.adjective.isin(bad_adj_p))]\n",
    "\n",
    "bad_noun_n = ['t', 'speaker', 'product', 'b', 'bose', 'p6', 'o', 'kilburn', 'jambox', 'flip',\n",
    "              'alexa', 'pdf', '*', '’', '..']\n",
    "bad_adj_n = ['bose', 'first', 'last', 'able', 'next', 'sound', 'wifi', 'other',\n",
    "             'good', 'sonos', '’', 'new', 'full', 'great', 'many', 'much', 'google',\n",
    "             'alexa', 'doesn', '“', 'usb', 'second', 'few', 'more', 'sure', 'loud',\n",
    "             'ue', 'better', '64-bit', 'ac', 'altec', 'ich', 't', 'serial', 'treble',\n",
    "             'nicht', 'es', 'only', 'smart', 'sleep', 'aux', 'nice', 'sd', 'blue', 'whole', \n",
    "             'high']\n",
    "df_fsp_n2 = df_fsp_n[(~df_fsp_n.noun.isin(bad_noun_n)) & (~df_fsp_n.adjective.isin(bad_adj_n))]"
   ]
  },
  {
   "cell_type": "markdown",
   "metadata": {},
   "source": [
    "# great/battery"
   ]
  },
  {
   "cell_type": "code",
   "execution_count": 17,
   "metadata": {},
   "outputs": [],
   "source": [
    "df_bt = df_fsp_p2[df_fsp_p2['feature'] == 'great/battery']\n",
    "\n",
    "df_bt['count'] = df_bt.groupby('product_name')['product_name'].transform('count')\n",
    "df_bt.drop_duplicates(subset='product_name', inplace=True)\n",
    "df_bt = df_bt.sort_values('count', ascending=False).groupby('cluster').head(10).sort_values('cluster')\n",
    "df_bt.reset_index(drop=True, inplace=True)"
   ]
  },
  {
   "cell_type": "code",
   "execution_count": 18,
   "metadata": {},
   "outputs": [],
   "source": [
    "df_raw = pd.read_csv('review_raw.csv')\n",
    "df_raw.rename(columns={\"product_page\": \"product_name\", \"product_page-href\": \"url\"}, inplace=True)\n",
    "df_raw = df_raw[['product_name', 'url']]\n",
    "df_raw.drop_duplicates(subset='product_name', inplace=True)"
   ]
  },
  {
   "cell_type": "code",
   "execution_count": 19,
   "metadata": {
    "scrolled": false
   },
   "outputs": [],
   "source": [
    "df_bt2 = df_bt.merge(df_raw, on='product_name')\n",
    "#for i in df_bt2['url']:\n",
    "    #idx = df_bt2[df_bt2['url'] == i].index\n",
    "    #print(f'{idx}: {i}')"
   ]
  },
  {
   "cell_type": "code",
   "execution_count": 20,
   "metadata": {},
   "outputs": [],
   "source": [
    "data_bt = (20, 20, 20, 30, 6, 10, 12, 6, 8, 24,\n",
    "            12, 20, 10, 20, 10, 16, 12, 16, 40, 10,\n",
    "            6, 8, 15, 15, 20, 20, 10, 12, 20, 12,\n",
    "            20, 15, 18, 15, 25, 5, 9, 12, 16, 12,\n",
    "            15, 15, 8, 11, 16, 12, 16, 8, 12)"
   ]
  },
  {
   "cell_type": "code",
   "execution_count": 21,
   "metadata": {},
   "outputs": [],
   "source": [
    "df_bt3 = df_bt2[['cluster', 'price', 'product_name', 'url', 'count']]\n",
    "df_bt3['battery_hours'] = data_bt"
   ]
  },
  {
   "cell_type": "code",
   "execution_count": 22,
   "metadata": {},
   "outputs": [],
   "source": [
    "df_bt3.loc[df_bt3.cluster == 'c1', 'cluster'] = 1\n",
    "df_bt3.loc[df_bt3.cluster == 'c2', 'cluster'] = 2\n",
    "df_bt3.loc[df_bt3.cluster == 'c3', 'cluster'] = 3\n",
    "df_bt3.loc[df_bt3.cluster == 'c4', 'cluster'] = 4\n",
    "df_bt3.loc[df_bt3.cluster == 'c5', 'cluster'] = 5"
   ]
  },
  {
   "cell_type": "code",
   "execution_count": 23,
   "metadata": {},
   "outputs": [
    {
     "data": {
      "text/html": [
       "<div>\n",
       "<style scoped>\n",
       "    .dataframe tbody tr th:only-of-type {\n",
       "        vertical-align: middle;\n",
       "    }\n",
       "\n",
       "    .dataframe tbody tr th {\n",
       "        vertical-align: top;\n",
       "    }\n",
       "\n",
       "    .dataframe thead th {\n",
       "        text-align: right;\n",
       "    }\n",
       "</style>\n",
       "<table border=\"1\" class=\"dataframe\">\n",
       "  <thead>\n",
       "    <tr style=\"text-align: right;\">\n",
       "      <th></th>\n",
       "      <th>cluster</th>\n",
       "      <th>price</th>\n",
       "      <th>product_name</th>\n",
       "      <th>url</th>\n",
       "      <th>count</th>\n",
       "      <th>battery_hours</th>\n",
       "    </tr>\n",
       "  </thead>\n",
       "  <tbody>\n",
       "    <tr>\n",
       "      <th>0</th>\n",
       "      <td>1</td>\n",
       "      <td>39.99</td>\n",
       "      <td>OontZ Angle 3 Ultra Waterproof 5.0 Bluetooth S...</td>\n",
       "      <td>https://www.amazon.com/OontZ-Angle-Ultra-Hi-Qu...</td>\n",
       "      <td>145</td>\n",
       "      <td>20</td>\n",
       "    </tr>\n",
       "    <tr>\n",
       "      <th>1</th>\n",
       "      <td>1</td>\n",
       "      <td>23.75</td>\n",
       "      <td>DOSS SoundBox Touch Portable Wireless Bluetoot...</td>\n",
       "      <td>https://www.amazon.com/DOSS-Wireless-Bluetooth...</td>\n",
       "      <td>142</td>\n",
       "      <td>20</td>\n",
       "    </tr>\n",
       "    <tr>\n",
       "      <th>2</th>\n",
       "      <td>1</td>\n",
       "      <td>39.99</td>\n",
       "      <td>COMISO Waterproof Bluetooth Speakers Outdoor W...</td>\n",
       "      <td>https://www.amazon.com/COMISO-Waterproof-Bluet...</td>\n",
       "      <td>121</td>\n",
       "      <td>20</td>\n",
       "    </tr>\n",
       "    <tr>\n",
       "      <th>3</th>\n",
       "      <td>1</td>\n",
       "      <td>39.99</td>\n",
       "      <td>Vtin 20W Bluetooth Speakers, V5.0 Portable Blu...</td>\n",
       "      <td>https://www.amazon.com/Vtin-Bluetooth-Waterpro...</td>\n",
       "      <td>76</td>\n",
       "      <td>30</td>\n",
       "    </tr>\n",
       "    <tr>\n",
       "      <th>4</th>\n",
       "      <td>1</td>\n",
       "      <td>23.98</td>\n",
       "      <td>VicTsing SoundHot C6 Portable Bluetooth Speake...</td>\n",
       "      <td>https://www.amazon.com/VicTsing-SoundHot-Bluet...</td>\n",
       "      <td>70</td>\n",
       "      <td>6</td>\n",
       "    </tr>\n",
       "  </tbody>\n",
       "</table>\n",
       "</div>"
      ],
      "text/plain": [
       "  cluster  price                                       product_name  \\\n",
       "0       1  39.99  OontZ Angle 3 Ultra Waterproof 5.0 Bluetooth S...   \n",
       "1       1  23.75  DOSS SoundBox Touch Portable Wireless Bluetoot...   \n",
       "2       1  39.99  COMISO Waterproof Bluetooth Speakers Outdoor W...   \n",
       "3       1  39.99  Vtin 20W Bluetooth Speakers, V5.0 Portable Blu...   \n",
       "4       1  23.98  VicTsing SoundHot C6 Portable Bluetooth Speake...   \n",
       "\n",
       "                                                 url  count  battery_hours  \n",
       "0  https://www.amazon.com/OontZ-Angle-Ultra-Hi-Qu...    145             20  \n",
       "1  https://www.amazon.com/DOSS-Wireless-Bluetooth...    142             20  \n",
       "2  https://www.amazon.com/COMISO-Waterproof-Bluet...    121             20  \n",
       "3  https://www.amazon.com/Vtin-Bluetooth-Waterpro...     76             30  \n",
       "4  https://www.amazon.com/VicTsing-SoundHot-Bluet...     70              6  "
      ]
     },
     "execution_count": 23,
     "metadata": {},
     "output_type": "execute_result"
    }
   ],
   "source": [
    "df_bt3.sort_values(by=['cluster','count'], ascending=[True,False], inplace=True)\n",
    "df_bt3.head()"
   ]
  },
  {
   "cell_type": "code",
   "execution_count": 24,
   "metadata": {},
   "outputs": [
    {
     "data": {
      "image/png": "[encoded data removed]",
      "text/plain": [
       "<Figure size 432x288 with 1 Axes>"
      ]
     },
     "metadata": {
      "needs_background": "light"
     },
     "output_type": "display_data"
    }
   ],
   "source": [
    "df_bt3.boxplot(grid=False, column='battery_hours', by='cluster', showfliers=False)\n",
    "plt.title('')\n",
    "plt.suptitle('')\n",
    "plt.xlabel('Cluster')\n",
    "plt.ylabel('Hours')\n",
    "plt.savefig('battery_hours.png', dpi=300)    \n",
    "plt.show()"
   ]
  },
  {
   "cell_type": "markdown",
   "metadata": {},
   "source": [
    "# low/volume"
   ]
  },
  {
   "cell_type": "code",
   "execution_count": 25,
   "metadata": {},
   "outputs": [],
   "source": [
    "df_vo = df_fsp_n2[df_fsp_n2['feature'] == 'low/volume']\n",
    "\n",
    "df_vo['count'] = df_vo.groupby('product_name')['product_name'].transform('count')\n",
    "df_vo_weight = df_vo\n",
    "\n",
    "df_vo.drop_duplicates(subset='product_name', inplace=True)\n",
    "df_vo = df_vo.sort_values('count', ascending=False).groupby('cluster').head(10).sort_values('cluster')\n",
    "df_vo.reset_index(drop=True, inplace=True)"
   ]
  },
  {
   "cell_type": "code",
   "execution_count": 26,
   "metadata": {},
   "outputs": [],
   "source": [
    "df_raw = pd.read_csv('review_raw.csv')\n",
    "df_raw.rename(columns={\"product_page\": \"product_name\", \"product_page-href\": \"url\"}, inplace=True)\n",
    "df_raw = df_raw[['product_name', 'url']]\n",
    "df_raw.drop_duplicates(subset='product_name', inplace=True)"
   ]
  },
  {
   "cell_type": "code",
   "execution_count": 27,
   "metadata": {},
   "outputs": [],
   "source": [
    "df_vo2 = df_vo.merge(df_raw, on='product_name')\n",
    "#for i in df_vo2['url']:\n",
    "    #idx = df_vo2[df_vo2['url'] == i].index\n",
    "    #print(f'{idx}: {i}')"
   ]
  },
  {
   "cell_type": "code",
   "execution_count": 28,
   "metadata": {},
   "outputs": [],
   "source": [
    "data_vo = (12, 3, 14, 6, 9, 1.5, 3, 5, 3, 20,\n",
    "           12, 25, 10, 40, 40, 40, 20, 30, 16, 25,\n",
    "           16, 6, 30, 30, 15, 60, 12, 10, 4, 3,\n",
    "           60, 5, 17, 3, 30, 17, 10, 40,\n",
    "           40, 40, 30, 50)"
   ]
  },
  {
   "cell_type": "code",
   "execution_count": 29,
   "metadata": {},
   "outputs": [],
   "source": [
    "df_vo3 = df_vo2[['cluster', 'price', 'product_name', 'url', 'count']]\n",
    "df_vo3['watts'] = data_vo"
   ]
  },
  {
   "cell_type": "code",
   "execution_count": 30,
   "metadata": {},
   "outputs": [],
   "source": [
    "df_vo3.loc[df_vo3.cluster == 'c1', 'cluster'] = 1\n",
    "df_vo3.loc[df_vo3.cluster == 'c2', 'cluster'] = 2\n",
    "df_vo3.loc[df_vo3.cluster == 'c3', 'cluster'] = 3\n",
    "df_vo3.loc[df_vo3.cluster == 'c4', 'cluster'] = 4\n",
    "df_vo3.loc[df_vo3.cluster == 'c5', 'cluster'] = 5"
   ]
  },
  {
   "cell_type": "code",
   "execution_count": 31,
   "metadata": {},
   "outputs": [
    {
     "data": {
      "text/html": [
       "<div>\n",
       "<style scoped>\n",
       "    .dataframe tbody tr th:only-of-type {\n",
       "        vertical-align: middle;\n",
       "    }\n",
       "\n",
       "    .dataframe tbody tr th {\n",
       "        vertical-align: top;\n",
       "    }\n",
       "\n",
       "    .dataframe thead th {\n",
       "        text-align: right;\n",
       "    }\n",
       "</style>\n",
       "<table border=\"1\" class=\"dataframe\">\n",
       "  <thead>\n",
       "    <tr style=\"text-align: right;\">\n",
       "      <th></th>\n",
       "      <th>cluster</th>\n",
       "      <th>price</th>\n",
       "      <th>product_name</th>\n",
       "      <th>url</th>\n",
       "      <th>count</th>\n",
       "      <th>watts</th>\n",
       "    </tr>\n",
       "  </thead>\n",
       "  <tbody>\n",
       "    <tr>\n",
       "      <th>0</th>\n",
       "      <td>1</td>\n",
       "      <td>23.75</td>\n",
       "      <td>DOSS SoundBox Touch Portable Wireless Bluetoot...</td>\n",
       "      <td>https://www.amazon.com/DOSS-Wireless-Bluetooth...</td>\n",
       "      <td>27</td>\n",
       "      <td>12.0</td>\n",
       "    </tr>\n",
       "    <tr>\n",
       "      <th>1</th>\n",
       "      <td>1</td>\n",
       "      <td>14.99</td>\n",
       "      <td>SoundBot SB510 HD Water Resistant Bluetooth 3....</td>\n",
       "      <td>https://www.amazon.com/SB510-Resistant-Bluetoo...</td>\n",
       "      <td>21</td>\n",
       "      <td>3.0</td>\n",
       "    </tr>\n",
       "    <tr>\n",
       "      <th>2</th>\n",
       "      <td>1</td>\n",
       "      <td>39.99</td>\n",
       "      <td>OontZ Angle 3 Ultra Waterproof 5.0 Bluetooth S...</td>\n",
       "      <td>https://www.amazon.com/OontZ-Angle-Ultra-Hi-Qu...</td>\n",
       "      <td>20</td>\n",
       "      <td>14.0</td>\n",
       "    </tr>\n",
       "    <tr>\n",
       "      <th>3</th>\n",
       "      <td>1</td>\n",
       "      <td>18.99</td>\n",
       "      <td>ZoeeTree S1 Wireless Bluetooth Speaker, Portab...</td>\n",
       "      <td>https://www.amazon.com/ZoeeTree-S1-Wireless-Bl...</td>\n",
       "      <td>18</td>\n",
       "      <td>6.0</td>\n",
       "    </tr>\n",
       "    <tr>\n",
       "      <th>4</th>\n",
       "      <td>1</td>\n",
       "      <td>23.95</td>\n",
       "      <td>iHome Bluetooth Rechargeable Mini Speaker Cube...</td>\n",
       "      <td>https://www.amazon.com/iHome-Bluetooth-Recharg...</td>\n",
       "      <td>16</td>\n",
       "      <td>9.0</td>\n",
       "    </tr>\n",
       "  </tbody>\n",
       "</table>\n",
       "</div>"
      ],
      "text/plain": [
       "  cluster  price                                       product_name  \\\n",
       "0       1  23.75  DOSS SoundBox Touch Portable Wireless Bluetoot...   \n",
       "1       1  14.99  SoundBot SB510 HD Water Resistant Bluetooth 3....   \n",
       "2       1  39.99  OontZ Angle 3 Ultra Waterproof 5.0 Bluetooth S...   \n",
       "3       1  18.99  ZoeeTree S1 Wireless Bluetooth Speaker, Portab...   \n",
       "4       1  23.95  iHome Bluetooth Rechargeable Mini Speaker Cube...   \n",
       "\n",
       "                                                 url  count  watts  \n",
       "0  https://www.amazon.com/DOSS-Wireless-Bluetooth...     27   12.0  \n",
       "1  https://www.amazon.com/SB510-Resistant-Bluetoo...     21    3.0  \n",
       "2  https://www.amazon.com/OontZ-Angle-Ultra-Hi-Qu...     20   14.0  \n",
       "3  https://www.amazon.com/ZoeeTree-S1-Wireless-Bl...     18    6.0  \n",
       "4  https://www.amazon.com/iHome-Bluetooth-Recharg...     16    9.0  "
      ]
     },
     "execution_count": 31,
     "metadata": {},
     "output_type": "execute_result"
    }
   ],
   "source": [
    "df_vo3.sort_values(by=['cluster','count'], ascending=[True,False], inplace=True)\n",
    "df_vo3.head()"
   ]
  },
  {
   "cell_type": "code",
   "execution_count": 32,
   "metadata": {},
   "outputs": [
    {
     "data": {
      "image/png": "[encoded data removed]",
      "text/plain": [
       "<Figure size 432x288 with 1 Axes>"
      ]
     },
     "metadata": {
      "needs_background": "light"
     },
     "output_type": "display_data"
    }
   ],
   "source": [
    "df_vo3.boxplot(grid=False, column='watts', by='cluster', showfliers=False)\n",
    "plt.title('')\n",
    "plt.suptitle('')\n",
    "plt.xlabel('Cluster')\n",
    "plt.ylabel('Watts')\n",
    "plt.savefig('watts.png', dpi=300)    \n",
    "plt.show()"
   ]
  },
  {
   "cell_type": "code",
   "execution_count": null,
   "metadata": {},
   "outputs": [],
   "source": []
  }
 ],
 "metadata": {
  "kernelspec": {
   "display_name": "Python 3",
   "language": "python",
   "name": "python3"
  },
  "language_info": {
   "codemirror_mode": {
    "name": "ipython",
    "version": 3
   },
   "file_extension": ".py",
   "mimetype": "text/x-python",
   "name": "python",
   "nbconvert_exporter": "python",
   "pygments_lexer": "ipython3",
   "version": "3.8.5"
  }
 },
 "nbformat": 4,
 "nbformat_minor": 4
}
